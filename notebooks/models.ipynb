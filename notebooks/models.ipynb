{
 "cells": [
  {
   "cell_type": "code",
   "execution_count": 1,
   "id": "initial_id",
   "metadata": {
    "collapsed": true,
    "ExecuteTime": {
     "end_time": "2024-05-03T20:48:54.149059800Z",
     "start_time": "2024-05-03T20:48:54.112119900Z"
    }
   },
   "outputs": [],
   "source": [
    "import pandas as pd\n"
   ]
  },
  {
   "cell_type": "code",
   "outputs": [
    {
     "data": {
      "text/plain": "    Venue  Result        Opponent   xG  xGA          Referee             Team\n0    Away       0         Chelsea  1.3  1.4   Anthony Taylor        Liverpool\n1    Home       1     Bournemouth  3.0  1.3   Thomas Bramall        Liverpool\n2    Away       1   Newcastle Utd  0.9  2.0      John Brooks        Liverpool\n3    Home       1     Aston Villa  2.5  0.7     Simon Hooper        Liverpool\n4    Away       1          Wolves  2.5  0.6   Michael Oliver        Liverpool\n..    ...     ...             ...  ...  ...              ...              ...\n507  Away       2  Crystal Palace  0.8  1.1  Tony Harrington  SheffieldUnited\n508  Home       2     Aston Villa  1.4  2.2     Paul Tierney  SheffieldUnited\n509  Away       1      Luton Town  1.7  1.8   Chris Kavanagh  SheffieldUnited\n510  Home       2        Brighton  0.6  2.9   Stuart Attwell  SheffieldUnited\n511  Away       2          Wolves  0.6  1.2      Darren Bond  SheffieldUnited\n\n[512 rows x 7 columns]",
      "text/html": "<div>\n<style scoped>\n    .dataframe tbody tr th:only-of-type {\n        vertical-align: middle;\n    }\n\n    .dataframe tbody tr th {\n        vertical-align: top;\n    }\n\n    .dataframe thead th {\n        text-align: right;\n    }\n</style>\n<table border=\"1\" class=\"dataframe\">\n  <thead>\n    <tr style=\"text-align: right;\">\n      <th></th>\n      <th>Venue</th>\n      <th>Result</th>\n      <th>Opponent</th>\n      <th>xG</th>\n      <th>xGA</th>\n      <th>Referee</th>\n      <th>Team</th>\n    </tr>\n  </thead>\n  <tbody>\n    <tr>\n      <th>0</th>\n      <td>Away</td>\n      <td>0</td>\n      <td>Chelsea</td>\n      <td>1.3</td>\n      <td>1.4</td>\n      <td>Anthony Taylor</td>\n      <td>Liverpool</td>\n    </tr>\n    <tr>\n      <th>1</th>\n      <td>Home</td>\n      <td>1</td>\n      <td>Bournemouth</td>\n      <td>3.0</td>\n      <td>1.3</td>\n      <td>Thomas Bramall</td>\n      <td>Liverpool</td>\n    </tr>\n    <tr>\n      <th>2</th>\n      <td>Away</td>\n      <td>1</td>\n      <td>Newcastle Utd</td>\n      <td>0.9</td>\n      <td>2.0</td>\n      <td>John Brooks</td>\n      <td>Liverpool</td>\n    </tr>\n    <tr>\n      <th>3</th>\n      <td>Home</td>\n      <td>1</td>\n      <td>Aston Villa</td>\n      <td>2.5</td>\n      <td>0.7</td>\n      <td>Simon Hooper</td>\n      <td>Liverpool</td>\n    </tr>\n    <tr>\n      <th>4</th>\n      <td>Away</td>\n      <td>1</td>\n      <td>Wolves</td>\n      <td>2.5</td>\n      <td>0.6</td>\n      <td>Michael Oliver</td>\n      <td>Liverpool</td>\n    </tr>\n    <tr>\n      <th>...</th>\n      <td>...</td>\n      <td>...</td>\n      <td>...</td>\n      <td>...</td>\n      <td>...</td>\n      <td>...</td>\n      <td>...</td>\n    </tr>\n    <tr>\n      <th>507</th>\n      <td>Away</td>\n      <td>2</td>\n      <td>Crystal Palace</td>\n      <td>0.8</td>\n      <td>1.1</td>\n      <td>Tony Harrington</td>\n      <td>SheffieldUnited</td>\n    </tr>\n    <tr>\n      <th>508</th>\n      <td>Home</td>\n      <td>2</td>\n      <td>Aston Villa</td>\n      <td>1.4</td>\n      <td>2.2</td>\n      <td>Paul Tierney</td>\n      <td>SheffieldUnited</td>\n    </tr>\n    <tr>\n      <th>509</th>\n      <td>Away</td>\n      <td>1</td>\n      <td>Luton Town</td>\n      <td>1.7</td>\n      <td>1.8</td>\n      <td>Chris Kavanagh</td>\n      <td>SheffieldUnited</td>\n    </tr>\n    <tr>\n      <th>510</th>\n      <td>Home</td>\n      <td>2</td>\n      <td>Brighton</td>\n      <td>0.6</td>\n      <td>2.9</td>\n      <td>Stuart Attwell</td>\n      <td>SheffieldUnited</td>\n    </tr>\n    <tr>\n      <th>511</th>\n      <td>Away</td>\n      <td>2</td>\n      <td>Wolves</td>\n      <td>0.6</td>\n      <td>1.2</td>\n      <td>Darren Bond</td>\n      <td>SheffieldUnited</td>\n    </tr>\n  </tbody>\n</table>\n<p>512 rows × 7 columns</p>\n</div>"
     },
     "execution_count": 2,
     "metadata": {},
     "output_type": "execute_result"
    }
   ],
   "source": [
    "#Lectura del archivo con la informacion a trabajar obtenida de Kaggle\n",
    "df = pd.read_csv(\"../data/processed/df_final.csv\")\n",
    "df"
   ],
   "metadata": {
    "collapsed": false,
    "ExecuteTime": {
     "end_time": "2024-05-03T20:49:03.775896200Z",
     "start_time": "2024-05-03T20:49:03.740937300Z"
    }
   },
   "id": "a39e5123691bdfaa",
   "execution_count": 2
  },
  {
   "cell_type": "code",
   "outputs": [],
   "source": [
    "X = df.drop(columns=[\"Result\"])\n",
    "y = df['Result']"
   ],
   "metadata": {
    "collapsed": false,
    "ExecuteTime": {
     "end_time": "2024-05-03T20:49:10.623715100Z",
     "start_time": "2024-05-03T20:49:10.619721600Z"
    }
   },
   "id": "fe557555a9a5cde8",
   "execution_count": 3
  },
  {
   "cell_type": "code",
   "outputs": [
    {
     "data": {
      "text/plain": "  Venue       Opponent   xG  xGA         Referee       Team\n0  Away        Chelsea  1.3  1.4  Anthony Taylor  Liverpool\n1  Home    Bournemouth  3.0  1.3  Thomas Bramall  Liverpool\n2  Away  Newcastle Utd  0.9  2.0     John Brooks  Liverpool\n3  Home    Aston Villa  2.5  0.7    Simon Hooper  Liverpool\n4  Away         Wolves  2.5  0.6  Michael Oliver  Liverpool",
      "text/html": "<div>\n<style scoped>\n    .dataframe tbody tr th:only-of-type {\n        vertical-align: middle;\n    }\n\n    .dataframe tbody tr th {\n        vertical-align: top;\n    }\n\n    .dataframe thead th {\n        text-align: right;\n    }\n</style>\n<table border=\"1\" class=\"dataframe\">\n  <thead>\n    <tr style=\"text-align: right;\">\n      <th></th>\n      <th>Venue</th>\n      <th>Opponent</th>\n      <th>xG</th>\n      <th>xGA</th>\n      <th>Referee</th>\n      <th>Team</th>\n    </tr>\n  </thead>\n  <tbody>\n    <tr>\n      <th>0</th>\n      <td>Away</td>\n      <td>Chelsea</td>\n      <td>1.3</td>\n      <td>1.4</td>\n      <td>Anthony Taylor</td>\n      <td>Liverpool</td>\n    </tr>\n    <tr>\n      <th>1</th>\n      <td>Home</td>\n      <td>Bournemouth</td>\n      <td>3.0</td>\n      <td>1.3</td>\n      <td>Thomas Bramall</td>\n      <td>Liverpool</td>\n    </tr>\n    <tr>\n      <th>2</th>\n      <td>Away</td>\n      <td>Newcastle Utd</td>\n      <td>0.9</td>\n      <td>2.0</td>\n      <td>John Brooks</td>\n      <td>Liverpool</td>\n    </tr>\n    <tr>\n      <th>3</th>\n      <td>Home</td>\n      <td>Aston Villa</td>\n      <td>2.5</td>\n      <td>0.7</td>\n      <td>Simon Hooper</td>\n      <td>Liverpool</td>\n    </tr>\n    <tr>\n      <th>4</th>\n      <td>Away</td>\n      <td>Wolves</td>\n      <td>2.5</td>\n      <td>0.6</td>\n      <td>Michael Oliver</td>\n      <td>Liverpool</td>\n    </tr>\n  </tbody>\n</table>\n</div>"
     },
     "execution_count": 5,
     "metadata": {},
     "output_type": "execute_result"
    }
   ],
   "source": [
    "X.head()"
   ],
   "metadata": {
    "collapsed": false,
    "ExecuteTime": {
     "end_time": "2024-05-03T20:49:39.663629900Z",
     "start_time": "2024-05-03T20:49:39.654673200Z"
    }
   },
   "id": "a106c8ea467d6bbc",
   "execution_count": 5
  },
  {
   "cell_type": "code",
   "outputs": [],
   "source": [
    "from sklearn.preprocessing import OrdinalEncoder\n",
    "encoder = OrdinalEncoder()\n",
    "X= encoder.fit_transform(X)"
   ],
   "metadata": {
    "collapsed": false,
    "ExecuteTime": {
     "end_time": "2024-05-03T20:52:38.330501800Z",
     "start_time": "2024-05-03T20:52:38.301686300Z"
    }
   },
   "id": "92872ccb43a8b09c",
   "execution_count": 7
  },
  {
   "cell_type": "code",
   "outputs": [],
   "source": [
    "# Guardar label en pickle\n",
    "import pickle \n",
    "\n",
    "with open('x_encode.pkl', 'wb') as f:\n",
    "    pickle.dump(encoder, f)"
   ],
   "metadata": {
    "collapsed": false,
    "ExecuteTime": {
     "end_time": "2024-05-03T20:54:08.528301800Z",
     "start_time": "2024-05-03T20:54:08.521312600Z"
    }
   },
   "id": "ebabccc66cd449d4",
   "execution_count": 10
  },
  {
   "cell_type": "code",
   "outputs": [],
   "source": [
    "from sklearn.model_selection import train_test_split\n",
    "X_train, X_test, y_train, y_test = train_test_split(X, y, test_size=0.2, random_state=42)\n"
   ],
   "metadata": {
    "collapsed": false,
    "ExecuteTime": {
     "end_time": "2024-05-03T20:54:16.983897Z",
     "start_time": "2024-05-03T20:54:16.877241200Z"
    }
   },
   "id": "7bb6897dffdddd92",
   "execution_count": 11
  },
  {
   "cell_type": "code",
   "outputs": [
    {
     "data": {
      "text/plain": "Initialized MLflow to track repo \u001B[32m\"SantiagoAguirre2002/PROYECTO-CD-Premiere-league\"\u001B[0m\n",
      "text/html": "<pre style=\"white-space:pre;overflow-x:auto;line-height:normal;font-family:Menlo,'DejaVu Sans Mono',consolas,'Courier New',monospace\">Initialized MLflow to track repo <span style=\"color: #008000; text-decoration-color: #008000\">\"SantiagoAguirre2002/PROYECTO-CD-Premiere-league\"</span>\n</pre>\n"
     },
     "metadata": {},
     "output_type": "display_data"
    },
    {
     "data": {
      "text/plain": "Repository SantiagoAguirre2002/PROYECTO-CD-Premiere-league initialized!\n",
      "text/html": "<pre style=\"white-space:pre;overflow-x:auto;line-height:normal;font-family:Menlo,'DejaVu Sans Mono',consolas,'Courier New',monospace\">Repository SantiagoAguirre2002/PROYECTO-CD-Premiere-league initialized!\n</pre>\n"
     },
     "metadata": {},
     "output_type": "display_data"
    }
   ],
   "source": [
    "import dagshub\n",
    "import mlflow\n",
    "\n",
    "dagshub.init(\"PROYECTO-CD-Premiere-league\", \"SantiagoAguirre2002\", mlflow=True)\n",
    "\n",
    "mlflow.set_tracking_uri('https://dagshub.com/IlseFlores/PROYECTO-CD-Premiere-league.mlflow')"
   ],
   "metadata": {
    "collapsed": false,
    "ExecuteTime": {
     "end_time": "2024-05-03T20:54:20.474220600Z",
     "start_time": "2024-05-03T20:54:17.656386100Z"
    }
   },
   "id": "24dd53aa99ba3092",
   "execution_count": 12
  },
  {
   "cell_type": "code",
   "outputs": [
    {
     "name": "stderr",
     "output_type": "stream",
     "text": [
      "C:\\Users\\tatob\\AppData\\Local\\Programs\\Python\\Python311\\Lib\\site-packages\\sklearn\\metrics\\_classification.py:1509: UndefinedMetricWarning: Precision is ill-defined and being set to 0.0 in labels with no predicted samples. Use `zero_division` parameter to control this behavior.\n",
      "  _warn_prf(average, modifier, f\"{metric.capitalize()} is\", len(result))\n"
     ]
    }
   ],
   "source": [
    " #pip install mlflow\n",
    "import mlflow\n",
    "from sklearn.linear_model import LogisticRegression\n",
    "from sklearn.metrics import roc_auc_score, accuracy_score, precision_score, recall_score\n",
    "\n",
    "name_model = \"LogisticRegression\"\n",
    "developer = \"Angel De la mora, Regina Flores, Santiago Aguirre\"\n",
    "\n",
    "parameters = {\n",
    "    \"penalty\": \"l2\",\n",
    "    \"C\": 1.0,\n",
    "    \"solver\": \"lbfgs\",\n",
    "    \"multi_class\": \"multinomial\", \n",
    "    \"max_iter\": 100,\n",
    "    \"random_state\": 42\n",
    "}\n",
    "\n",
    "with mlflow.start_run(run_name=name_model):\n",
    "    \n",
    "    mlflow.log_param(\"model\", name_model)\n",
    "    mlflow.log_param(\"developer\", developer)\n",
    "    \n",
    "    # Registrar parámetros del modelo\n",
    "    mlflow.log_params(parameters)\n",
    "    \n",
    "    # Entrenar un clasificador de regresión logística\n",
    "    logistic_regression_clf = LogisticRegression(**parameters)\n",
    "    logistic_regression_clf.fit(X_train, y_train)\n",
    "    \n",
    "    # Realizar predicciones\n",
    "    predictions = logistic_regression_clf.predict(X_test)\n",
    "    predictions_proba = logistic_regression_clf.predict_proba(X_test)\n",
    "\n",
    "    # Calcular métricas\n",
    "    accuracy = accuracy_score(y_test, predictions)\n",
    "    precision = precision_score(y_test, predictions, average='weighted')\n",
    "    recall = recall_score(y_test, predictions, average='weighted')\n",
    "    roc_auc = roc_auc_score(y_test, predictions_proba, average='weighted', multi_class='ovr')\n",
    "\n",
    "    # Registrar métricas\n",
    "    mlflow.log_metric(\"roc_auc\", roc_auc)\n",
    "    mlflow.log_metric(\"accuracy\", accuracy)\n",
    "    mlflow.log_metric(\"precision\", precision)\n",
    "    mlflow.log_metric(\"recall\", recall)\n",
    "    \n",
    "    # Registrar el modelo\n",
    "    mlflow.sklearn.log_model(logistic_regression_clf, \"logistic_regression_classifier\")\n"
   ],
   "metadata": {
    "collapsed": false,
    "ExecuteTime": {
     "end_time": "2024-05-03T20:54:38.321528100Z",
     "start_time": "2024-05-03T20:54:23.397802100Z"
    }
   },
   "id": "bd09ee958e2b015d",
   "execution_count": 13
  },
  {
   "cell_type": "markdown",
   "source": [
    "## Experimento1"
   ],
   "metadata": {
    "collapsed": false
   },
   "id": "dbb897ee69014ed6"
  },
  {
   "cell_type": "code",
   "outputs": [],
   "source": [
    "import mlflow\n",
    "from sklearn.linear_model import LogisticRegression\n",
    "from sklearn.metrics import roc_auc_score, accuracy_score, precision_score, recall_score\n",
    "\n",
    "name_model = \"LogisticRegression\"\n",
    "developer = \"Angel De la mora, Regina Flores, Santiago Aguirre\"\n",
    "\n",
    "parameters = {\n",
    "    \"penalty\": \"l2\",\n",
    "    \"C\": 1.0,\n",
    "    \"solver\": \"lbfgs\",\n",
    "    \"multi_class\": \"multinomial\", \n",
    "    \"max_iter\": 100,\n",
    "    \"random_state\": 42\n",
    "}\n",
    "\n",
    "with mlflow.start_run(run_name=name_model):\n",
    "    \n",
    "    mlflow.log_param(\"model\", name_model)\n",
    "    mlflow.log_param(\"developer\", developer)\n",
    "    \n",
    "    # Registrar parámetros del modelo\n",
    "    mlflow.log_params(parameters)\n",
    "    \n",
    "    # Entrenar un clasificador de regresión logística\n",
    "    logistic_regression_clf = LogisticRegression(**parameters)\n",
    "    logistic_regression_clf.fit(X_train, y_train)\n",
    "    \n",
    "    # Realizar predicciones\n",
    "    predictions = logistic_regression_clf.predict(X_test)\n",
    "    predictions_proba = logistic_regression_clf.predict_proba(X_test)\n",
    "\n",
    "    # Calcular métricas\n",
    "    accuracy = accuracy_score(y_test, predictions)\n",
    "    precision = precision_score(y_test, predictions, average='weighted')\n",
    "    recall = recall_score(y_test, predictions, average='weighted')\n",
    "    roc_auc = roc_auc_score(y_test, predictions_proba, average='weighted', multi_class='ovr')\n",
    "\n",
    "    # Registrar métricas\n",
    "    mlflow.log_metric(\"roc_auc\", roc_auc)\n",
    "    mlflow.log_metric(\"accuracy\", accuracy)\n",
    "    mlflow.log_metric(\"precision\", precision)\n",
    "    mlflow.log_metric(\"recall\", recall)\n",
    "    \n",
    "    # Registrar el modelo\n",
    "    mlflow.sklearn.log_model(logistic_regression_clf, \"logistic_regression_classifier\")\n"
   ],
   "metadata": {
    "collapsed": false
   },
   "id": "ad07f392dd481d4b",
   "execution_count": null
  },
  {
   "cell_type": "markdown",
   "source": [
    "## Experimento 2"
   ],
   "metadata": {
    "collapsed": false
   },
   "id": "8838917a0457ef81"
  },
  {
   "cell_type": "code",
   "outputs": [],
   "source": [
    "from sklearn.model_selection import GridSearchCV\n",
    "from sklearn.neural_network import MLPClassifier\n",
    "\n",
    "param_grid = {\n",
    "    'hidden_layer_sizes': [(100,), (50, 50), (50, 100, 50)],\n",
    "    'activation': ['logistic', 'relu'],\n",
    "    'solver': ['adam', 'sgd'],\n",
    "    'alpha': [0.0001, 0.001, 0.01],\n",
    "    'learning_rate': ['constant', 'adaptive'],\n",
    "}\n",
    "\n",
    "mlp_clf = MLPClassifier(random_state=42)\n",
    "\n",
    "grid_search = GridSearchCV(estimator=mlp_clf, param_grid=param_grid, cv=5)\n",
    "\n",
    "grid_search.fit(X_train, y_train)\n",
    "\n",
    "best_params = grid_search.best_params_\n",
    "print(\"Mejores parámetros:\", best_params)\n"
   ],
   "metadata": {
    "collapsed": false
   },
   "id": "c21a9866b9c1937f",
   "execution_count": null
  },
  {
   "cell_type": "code",
   "outputs": [],
   "source": [
    "import mlflow\n",
    "from sklearn.neural_network import MLPClassifier\n",
    "from sklearn.metrics import roc_auc_score, accuracy_score, precision_score, recall_score\n",
    "\n",
    "name_model = \"MLPClassifier\"\n",
    "developer = \"Angel De la mora, Regina Flores, Santiago Aguirre\"\n",
    "\n",
    "# Mejores parámetros encontrados\n",
    "best_params = {\n",
    "    \"hidden_layer_sizes\": (50, 50),\n",
    "    \"activation\": \"logistic\",\n",
    "    \"solver\": \"adam\",\n",
    "    \"alpha\": 0.0001,\n",
    "    \"learning_rate\": \"constant\",\n",
    "    \"max_iter\": 1000,  # Aumentamos el número de iteraciones\n",
    "    \"random_state\": 42\n",
    "}\n",
    "\n",
    "with mlflow.start_run(run_name=name_model):\n",
    "    \n",
    "    mlflow.log_param(\"model\", name_model)\n",
    "    mlflow.log_param(\"developer\", developer)\n",
    "    \n",
    "    # Registrar parámetros del modelo\n",
    "    mlflow.log_params(best_params)\n",
    "    \n",
    "    # Entrenar un clasificador de red neuronal\n",
    "    mlp_clf = MLPClassifier(**best_params)\n",
    "    mlp_clf.fit(X_train, y_train)\n",
    "    \n",
    "    # Realizar predicciones\n",
    "    predictions = mlp_clf.predict(X_test)\n",
    "    predictions_proba = mlp_clf.predict_proba(X_test)\n",
    "\n",
    "    # Calcular métricas\n",
    "    accuracy = accuracy_score(y_test, predictions)\n",
    "    precision = precision_score(y_test, predictions, average='weighted')\n",
    "    recall = recall_score(y_test, predictions, average='weighted')\n",
    "    roc_auc = roc_auc_score(y_test, predictions_proba, average='weighted')\n",
    "\n",
    "    # Registrar métricas\n",
    "    mlflow.log_metric(\"roc_auc\", roc_auc)\n",
    "    mlflow.log_metric(\"accuracy\", accuracy)\n",
    "    mlflow.log_metric(\"precision\", precision)\n",
    "    mlflow.log_metric(\"recall\", recall)\n",
    "    \n",
    "    # Registrar el modelo\n",
    "    mlflow.sklearn.log_model(mlp_clf, \"mlp_classifier\")\n"
   ],
   "metadata": {
    "collapsed": false
   },
   "id": "1b5374427bb2ff11",
   "execution_count": null
  },
  {
   "cell_type": "markdown",
   "source": [
    "### Experimento 3\n"
   ],
   "metadata": {
    "collapsed": false
   },
   "id": "76cebb32ccac4b53"
  },
  {
   "cell_type": "code",
   "outputs": [],
   "source": [
    "from sklearn.model_selection import GridSearchCV\n",
    "from sklearn.ensemble import RandomForestClassifier\n",
    "\n",
    "param_grid = {\n",
    "    'n_estimators': [100, 200, 300],  \n",
    "    'max_depth': [None, 10, 20, 30],  \n",
    "    'min_samples_split': [2, 5, 10],   \n",
    "    'min_samples_leaf': [1, 2, 4],  \n",
    "    \n",
    "    'max_features': ['auto', 'sqrt'],  \n",
    "}\n",
    "\n",
    "rf_clf = RandomForestClassifier(random_state=42)\n",
    "\n",
    "grid_search = GridSearchCV(estimator=rf_clf, param_grid=param_grid, cv=5)\n",
    "\n",
    "grid_search.fit(X_train, y_train)\n",
    "\n",
    "best_params = grid_search.best_params_\n",
    "print(\"Mejores parámetros:\", best_params)"
   ],
   "metadata": {
    "collapsed": false
   },
   "id": "f58867bb8b430f32"
  },
  {
   "cell_type": "code",
   "outputs": [],
   "source": [
    "import mlflow\n",
    "from sklearn.ensemble import RandomForestClassifier\n",
    "from sklearn.metrics import roc_auc_score, accuracy_score, precision_score, recall_score\n",
    "\n",
    "name_model = \"RandomForestClassifier\"\n",
    "developer = \"Angel De la mora, Regina Flores, Santiago Aguirre\"\n",
    "\n",
    "# Mejores parámetros encontrados\n",
    "best_params = {\n",
    "    'max_depth': None,\n",
    "    'max_features': 'sqrt',\n",
    "    'min_samples_leaf': 1,\n",
    "    'min_samples_split': 5,\n",
    "    'n_estimators': 200,\n",
    "    'random_state': 42\n",
    "}\n",
    "\n",
    "with mlflow.start_run(run_name=name_model):\n",
    "    \n",
    "    mlflow.log_param(\"model\", name_model)\n",
    "    mlflow.log_param(\"developer\", developer)\n",
    "    \n",
    "    # Registrar parámetros del modelo\n",
    "    mlflow.log_params(best_params)\n",
    "    \n",
    "    # Entrenar un clasificador de Random Forest\n",
    "    rf_clf = RandomForestClassifier(**best_params)\n",
    "    rf_clf.fit(X_train, y_train)\n",
    "    \n",
    "    # Realizar predicciones\n",
    "    predictions = rf_clf.predict(X_test)\n",
    "    predictions_proba = rf_clf.predict_proba(X_test)\n",
    "\n",
    "    # Calcular métricas\n",
    "    accuracy = accuracy_score(y_test, predictions)\n",
    "    precision = precision_score(y_test, predictions, average='weighted')\n",
    "    recall = recall_score(y_test, predictions, average='weighted')\n",
    "    roc_auc = roc_auc_score(y_test, predictions_proba, average='weighted', multi_class='ovr')\n",
    "\n",
    "    # Registrar métricas\n",
    "    mlflow.log_metric(\"roc_auc\", roc_auc)\n",
    "    mlflow.log_metric(\"accuracy\", accuracy)\n",
    "    mlflow.log_metric(\"precision\", precision)\n",
    "    mlflow.log_metric(\"recall\", recall)\n",
    "    \n",
    "    # Registrar el modelo\n",
    "    mlflow.sklearn.log_model(rf_clf, \"random_forest_classifier\")"
   ],
   "metadata": {
    "collapsed": false
   },
   "id": "cdf455dc66c6a854"
  }
 ],
 "metadata": {
  "kernelspec": {
   "display_name": "Python 3",
   "language": "python",
   "name": "python3"
  },
  "language_info": {
   "codemirror_mode": {
    "name": "ipython",
    "version": 2
   },
   "file_extension": ".py",
   "mimetype": "text/x-python",
   "name": "python",
   "nbconvert_exporter": "python",
   "pygments_lexer": "ipython2",
   "version": "2.7.6"
  }
 },
 "nbformat": 4,
 "nbformat_minor": 5
}
