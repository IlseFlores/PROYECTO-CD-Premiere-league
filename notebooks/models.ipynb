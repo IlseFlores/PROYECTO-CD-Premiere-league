{
 "cells": [
  {
   "cell_type": "code",
   "execution_count": 7,
   "id": "initial_id",
   "metadata": {
    "collapsed": true,
    "ExecuteTime": {
     "end_time": "2024-04-22T18:37:12.813277600Z",
     "start_time": "2024-04-22T18:37:12.539152500Z"
    }
   },
   "outputs": [],
   "source": [
    "import pandas as pd\n",
    "import matplotlib.pyplot as plt\n",
    "import seaborn as sns"
   ]
  },
  {
   "cell_type": "code",
   "outputs": [
    {
     "data": {
      "text/plain": "    Venue Result   GF   GA        Opponent   xG  xGA             Team\n0    Away      D  1.0  1.0         Chelsea  1.3  1.4        Liverpool\n1    Home      W  3.0  1.0     Bournemouth  3.0  1.3        Liverpool\n2    Away      W  2.0  1.0   Newcastle Utd  0.9  2.0        Liverpool\n3    Home      W  3.0  0.0     Aston Villa  2.5  0.7        Liverpool\n4    Away      W  3.0  1.0          Wolves  2.5  0.6        Liverpool\n..    ...    ...  ...  ...             ...  ...  ...              ...\n507  Away      L  2.0  3.0  Crystal Palace  0.8  1.1  SheffieldUnited\n508  Home      L  0.0  5.0     Aston Villa  1.4  2.2  SheffieldUnited\n509  Away      W  3.0  1.0      Luton Town  1.7  1.8  SheffieldUnited\n510  Home      L  0.0  5.0        Brighton  0.6  2.9  SheffieldUnited\n511  Away      L  0.0  1.0          Wolves  0.6  1.2  SheffieldUnited\n\n[512 rows x 8 columns]",
      "text/html": "<div>\n<style scoped>\n    .dataframe tbody tr th:only-of-type {\n        vertical-align: middle;\n    }\n\n    .dataframe tbody tr th {\n        vertical-align: top;\n    }\n\n    .dataframe thead th {\n        text-align: right;\n    }\n</style>\n<table border=\"1\" class=\"dataframe\">\n  <thead>\n    <tr style=\"text-align: right;\">\n      <th></th>\n      <th>Venue</th>\n      <th>Result</th>\n      <th>GF</th>\n      <th>GA</th>\n      <th>Opponent</th>\n      <th>xG</th>\n      <th>xGA</th>\n      <th>Team</th>\n    </tr>\n  </thead>\n  <tbody>\n    <tr>\n      <th>0</th>\n      <td>Away</td>\n      <td>D</td>\n      <td>1.0</td>\n      <td>1.0</td>\n      <td>Chelsea</td>\n      <td>1.3</td>\n      <td>1.4</td>\n      <td>Liverpool</td>\n    </tr>\n    <tr>\n      <th>1</th>\n      <td>Home</td>\n      <td>W</td>\n      <td>3.0</td>\n      <td>1.0</td>\n      <td>Bournemouth</td>\n      <td>3.0</td>\n      <td>1.3</td>\n      <td>Liverpool</td>\n    </tr>\n    <tr>\n      <th>2</th>\n      <td>Away</td>\n      <td>W</td>\n      <td>2.0</td>\n      <td>1.0</td>\n      <td>Newcastle Utd</td>\n      <td>0.9</td>\n      <td>2.0</td>\n      <td>Liverpool</td>\n    </tr>\n    <tr>\n      <th>3</th>\n      <td>Home</td>\n      <td>W</td>\n      <td>3.0</td>\n      <td>0.0</td>\n      <td>Aston Villa</td>\n      <td>2.5</td>\n      <td>0.7</td>\n      <td>Liverpool</td>\n    </tr>\n    <tr>\n      <th>4</th>\n      <td>Away</td>\n      <td>W</td>\n      <td>3.0</td>\n      <td>1.0</td>\n      <td>Wolves</td>\n      <td>2.5</td>\n      <td>0.6</td>\n      <td>Liverpool</td>\n    </tr>\n    <tr>\n      <th>...</th>\n      <td>...</td>\n      <td>...</td>\n      <td>...</td>\n      <td>...</td>\n      <td>...</td>\n      <td>...</td>\n      <td>...</td>\n      <td>...</td>\n    </tr>\n    <tr>\n      <th>507</th>\n      <td>Away</td>\n      <td>L</td>\n      <td>2.0</td>\n      <td>3.0</td>\n      <td>Crystal Palace</td>\n      <td>0.8</td>\n      <td>1.1</td>\n      <td>SheffieldUnited</td>\n    </tr>\n    <tr>\n      <th>508</th>\n      <td>Home</td>\n      <td>L</td>\n      <td>0.0</td>\n      <td>5.0</td>\n      <td>Aston Villa</td>\n      <td>1.4</td>\n      <td>2.2</td>\n      <td>SheffieldUnited</td>\n    </tr>\n    <tr>\n      <th>509</th>\n      <td>Away</td>\n      <td>W</td>\n      <td>3.0</td>\n      <td>1.0</td>\n      <td>Luton Town</td>\n      <td>1.7</td>\n      <td>1.8</td>\n      <td>SheffieldUnited</td>\n    </tr>\n    <tr>\n      <th>510</th>\n      <td>Home</td>\n      <td>L</td>\n      <td>0.0</td>\n      <td>5.0</td>\n      <td>Brighton</td>\n      <td>0.6</td>\n      <td>2.9</td>\n      <td>SheffieldUnited</td>\n    </tr>\n    <tr>\n      <th>511</th>\n      <td>Away</td>\n      <td>L</td>\n      <td>0.0</td>\n      <td>1.0</td>\n      <td>Wolves</td>\n      <td>0.6</td>\n      <td>1.2</td>\n      <td>SheffieldUnited</td>\n    </tr>\n  </tbody>\n</table>\n<p>512 rows × 8 columns</p>\n</div>"
     },
     "execution_count": 8,
     "metadata": {},
     "output_type": "execute_result"
    }
   ],
   "source": [
    "#Lectura del archivo con la informacion a trabajar optenida de Kaggle\n",
    "df = pd.read_csv(\"C:/Users/gerar/Documents/PROYECTO-CD-Premiere-league/data/processed/df_final.csv\")\n",
    "df"
   ],
   "metadata": {
    "collapsed": false,
    "ExecuteTime": {
     "end_time": "2024-04-22T18:37:16.620852600Z",
     "start_time": "2024-04-22T18:37:15.813776500Z"
    }
   },
   "id": "a39e5123691bdfaa",
   "execution_count": 8
  },
  {
   "cell_type": "code",
   "outputs": [
    {
     "data": {
      "text/plain": "Venue        object\nResult       object\nGF          float64\nGA          float64\nOpponent     object\nxG          float64\nxGA         float64\nTeam         object\ndtype: object"
     },
     "execution_count": 9,
     "metadata": {},
     "output_type": "execute_result"
    }
   ],
   "source": [
    "df.dtypes"
   ],
   "metadata": {
    "collapsed": false,
    "ExecuteTime": {
     "end_time": "2024-04-22T18:37:17.489875900Z",
     "start_time": "2024-04-22T18:37:17.288484700Z"
    }
   },
   "id": "c18c1a00fa8531f5",
   "execution_count": 9
  },
  {
   "cell_type": "code",
   "outputs": [],
   "source": [
    "import pandas as pd\n",
    "from sklearn.preprocessing import LabelEncoder\n",
    "from sklearn.model_selection import train_test_split\n",
    "\n",
    "categorical_cols = ['Venue', 'Result', 'Opponent', 'Team']\n",
    "\n",
    "label_encoder = LabelEncoder()\n",
    "for col in categorical_cols:\n",
    "    df[col] = label_encoder.fit_transform(df[col])\n",
    "\n",
    "X = df.drop('Result', axis=1)\n",
    "y = df['Result']\n",
    "\n",
    "X_train, X_test, y_train, y_test = train_test_split(X, y, test_size=0.2, random_state=42)\n"
   ],
   "metadata": {
    "collapsed": false,
    "ExecuteTime": {
     "end_time": "2024-04-22T18:37:21.210864500Z",
     "start_time": "2024-04-22T18:37:18.783461200Z"
    }
   },
   "id": "7bb6897dffdddd92",
   "execution_count": 10
  },
  {
   "cell_type": "code",
   "outputs": [
    {
     "data": {
      "text/plain": "   Venue  Result   GF   GA  Opponent   xG  xGA  Team\n0      0       0  1.0  1.0         6  1.3  1.4    10\n1      1       2  3.0  1.0         2  3.0  1.3    10\n2      0       2  2.0  1.0        14  0.9  2.0    10\n3      1       2  3.0  0.0         1  2.5  0.7    10\n4      0       2  3.0  1.0        19  2.5  0.6    10",
      "text/html": "<div>\n<style scoped>\n    .dataframe tbody tr th:only-of-type {\n        vertical-align: middle;\n    }\n\n    .dataframe tbody tr th {\n        vertical-align: top;\n    }\n\n    .dataframe thead th {\n        text-align: right;\n    }\n</style>\n<table border=\"1\" class=\"dataframe\">\n  <thead>\n    <tr style=\"text-align: right;\">\n      <th></th>\n      <th>Venue</th>\n      <th>Result</th>\n      <th>GF</th>\n      <th>GA</th>\n      <th>Opponent</th>\n      <th>xG</th>\n      <th>xGA</th>\n      <th>Team</th>\n    </tr>\n  </thead>\n  <tbody>\n    <tr>\n      <th>0</th>\n      <td>0</td>\n      <td>0</td>\n      <td>1.0</td>\n      <td>1.0</td>\n      <td>6</td>\n      <td>1.3</td>\n      <td>1.4</td>\n      <td>10</td>\n    </tr>\n    <tr>\n      <th>1</th>\n      <td>1</td>\n      <td>2</td>\n      <td>3.0</td>\n      <td>1.0</td>\n      <td>2</td>\n      <td>3.0</td>\n      <td>1.3</td>\n      <td>10</td>\n    </tr>\n    <tr>\n      <th>2</th>\n      <td>0</td>\n      <td>2</td>\n      <td>2.0</td>\n      <td>1.0</td>\n      <td>14</td>\n      <td>0.9</td>\n      <td>2.0</td>\n      <td>10</td>\n    </tr>\n    <tr>\n      <th>3</th>\n      <td>1</td>\n      <td>2</td>\n      <td>3.0</td>\n      <td>0.0</td>\n      <td>1</td>\n      <td>2.5</td>\n      <td>0.7</td>\n      <td>10</td>\n    </tr>\n    <tr>\n      <th>4</th>\n      <td>0</td>\n      <td>2</td>\n      <td>3.0</td>\n      <td>1.0</td>\n      <td>19</td>\n      <td>2.5</td>\n      <td>0.6</td>\n      <td>10</td>\n    </tr>\n  </tbody>\n</table>\n</div>"
     },
     "execution_count": 11,
     "metadata": {},
     "output_type": "execute_result"
    }
   ],
   "source": [
    "#0:.Draw, 1:Win, 2:Lose \n",
    "df.head()"
   ],
   "metadata": {
    "collapsed": false,
    "ExecuteTime": {
     "end_time": "2024-04-22T18:37:22.251281600Z",
     "start_time": "2024-04-22T18:37:22.009961500Z"
    }
   },
   "id": "a165b82ae589b5f8",
   "execution_count": 11
  },
  {
   "cell_type": "code",
   "outputs": [
    {
     "name": "stdout",
     "output_type": "stream",
     "text": [
      "Mejores parámetros: {'learning_rate': 0.1, 'n_estimators': 50, 'random_state': 42}\n"
     ]
    }
   ],
   "source": [
    "#Para el modelo xgboost veamos cuales pueden ser los mejores parametros\n",
    "from sklearn.model_selection import GridSearchCV\n",
    "from sklearn.ensemble import AdaBoostClassifier \n",
    "param_grid = {\n",
    "    \"n_estimators\": [50, 100, 200],\n",
    "    \"learning_rate\": [0.1, 0.5, 1.0],\n",
    "    \"random_state\": [42]  \n",
    "}\n",
    "\n",
    "ada_clf = AdaBoostClassifier()\n",
    "\n",
    "grid_search = GridSearchCV(estimator=ada_clf, param_grid=param_grid, cv=5)\n",
    "grid_search.fit(X_train, y_train)\n",
    "\n",
    "best_params = grid_search.best_params_\n",
    "print(\"Mejores parámetros:\", best_params)\n"
   ],
   "metadata": {
    "collapsed": false,
    "ExecuteTime": {
     "end_time": "2024-04-22T18:37:46.047722300Z",
     "start_time": "2024-04-22T18:37:22.055983900Z"
    }
   },
   "id": "dbd5a4e0c7ed5c29",
   "execution_count": 12
  },
  {
   "cell_type": "code",
   "outputs": [
    {
     "ename": "ModuleNotFoundError",
     "evalue": "No module named 'mlflow'",
     "output_type": "error",
     "traceback": [
      "\u001B[1;31m---------------------------------------------------------------------------\u001B[0m",
      "\u001B[1;31mModuleNotFoundError\u001B[0m                       Traceback (most recent call last)",
      "Cell \u001B[1;32mIn[14], line 2\u001B[0m\n\u001B[0;32m      1\u001B[0m \u001B[38;5;66;03m#pip install mlflow\u001B[39;00m\n\u001B[1;32m----> 2\u001B[0m \u001B[38;5;28;01mimport\u001B[39;00m \u001B[38;5;21;01mmlflow\u001B[39;00m\n\u001B[0;32m      3\u001B[0m \u001B[38;5;28;01mfrom\u001B[39;00m \u001B[38;5;21;01msklearn\u001B[39;00m\u001B[38;5;21;01m.\u001B[39;00m\u001B[38;5;21;01mensemble\u001B[39;00m \u001B[38;5;28;01mimport\u001B[39;00m AdaBoostClassifier\n\u001B[0;32m      4\u001B[0m \u001B[38;5;28;01mfrom\u001B[39;00m \u001B[38;5;21;01msklearn\u001B[39;00m\u001B[38;5;21;01m.\u001B[39;00m\u001B[38;5;21;01mmetrics\u001B[39;00m \u001B[38;5;28;01mimport\u001B[39;00m roc_auc_score, accuracy_score, precision_score, recall_score\n",
      "\u001B[1;31mModuleNotFoundError\u001B[0m: No module named 'mlflow'"
     ]
    }
   ],
   "source": [
    " #pip install mlflow\n",
    "import mlflow\n",
    "from sklearn.ensemble import AdaBoostClassifier\n",
    "from sklearn.metrics import roc_auc_score, accuracy_score, precision_score, recall_score\n",
    "\n",
    "name_model = \"AdaBoost\"\n",
    "developer = \"Angel De la mora, Regina Flores, Santiago Aguirre\"\n",
    "\n",
    "parameters = {\n",
    "    \"n_estimators\": 50, \n",
    "    \"random_state\": 42,\n",
    "    \"learning_rate\": 0.1\n",
    "}\n",
    "                  \n",
    "with mlflow.start_run(run_name=name_model):\n",
    "    \n",
    "    mlflow.log_param(\"model\", name_model)\n",
    "    mlflow.log_param(\"developer\", developer)\n",
    "    \n",
    "    # Registrar parámetros del modelo\n",
    "    mlflow.log_params(parameters)\n",
    "    \n",
    "    # Entrena un clasificador AdaBoost\n",
    "    ada_clf = AdaBoostClassifier(**parameters)\n",
    "    ada_clf.fit(X_train, y_train)\n",
    "    \n",
    "    # Realizar predicciones\n",
    "    predictions = ada_clf.predict(X_test)\n",
    "    predictions_proba = ada_clf.predict_proba(X_test)[:, 1]\n",
    "\n",
    "    # Calcular métricas\n",
    "    accuracy = accuracy_score(y_test, predictions)\n",
    "    precision = precision_score(y_test, predictions)\n",
    "    recall = recall_score(y_test, predictions)\n",
    "    roc_auc = roc_auc_score(y_test, predictions_proba)\n",
    "\n",
    "    # Registrar métricas\n",
    "    mlflow.log_metric(\"roc_auc\", roc_auc)\n",
    "    mlflow.log_metric(\"accuracy\", accuracy)\n",
    "    mlflow.log_metric(\"precision\", precision)\n",
    "    mlflow.log_metric(\"recall\", recall)\n",
    "    \n",
    "    # Registrar el modelo\n",
    "    mlflow.sklearn.log_model(ada_clf, \"ada_boost_classifier\")\n",
    "    "
   ],
   "metadata": {
    "collapsed": false,
    "ExecuteTime": {
     "end_time": "2024-04-22T19:10:15.828118800Z",
     "start_time": "2024-04-22T19:10:15.622722700Z"
    }
   },
   "id": "bd09ee958e2b015d",
   "execution_count": 14
  }
 ],
 "metadata": {
  "kernelspec": {
   "display_name": "Python 3",
   "language": "python",
   "name": "python3"
  },
  "language_info": {
   "codemirror_mode": {
    "name": "ipython",
    "version": 2
   },
   "file_extension": ".py",
   "mimetype": "text/x-python",
   "name": "python",
   "nbconvert_exporter": "python",
   "pygments_lexer": "ipython2",
   "version": "2.7.6"
  }
 },
 "nbformat": 4,
 "nbformat_minor": 5
}
