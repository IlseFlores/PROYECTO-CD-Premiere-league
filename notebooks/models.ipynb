{
 "cells": [
  {
   "cell_type": "code",
   "execution_count": 2,
   "id": "initial_id",
   "metadata": {
    "collapsed": true,
    "ExecuteTime": {
     "end_time": "2024-05-07T02:30:17.260089Z",
     "start_time": "2024-05-07T02:30:17.256006Z"
    }
   },
   "outputs": [],
   "source": [
    "import pandas as pd\n"
   ]
  },
  {
   "cell_type": "code",
   "outputs": [
    {
     "data": {
      "text/plain": "    Venue  Result        Opponent   xG  xGA          Referee             Team\n0    Away       0         Chelsea  1.3  1.4   Anthony Taylor        Liverpool\n1    Home       1     Bournemouth  3.0  1.3   Thomas Bramall        Liverpool\n2    Away       1   Newcastle Utd  0.9  2.0      John Brooks        Liverpool\n3    Home       1     Aston Villa  2.5  0.7     Simon Hooper        Liverpool\n4    Away       1          Wolves  2.5  0.6   Michael Oliver        Liverpool\n..    ...     ...             ...  ...  ...              ...              ...\n507  Away       2  Crystal Palace  0.8  1.1  Tony Harrington  SheffieldUnited\n508  Home       2     Aston Villa  1.4  2.2     Paul Tierney  SheffieldUnited\n509  Away       1      Luton Town  1.7  1.8   Chris Kavanagh  SheffieldUnited\n510  Home       2        Brighton  0.6  2.9   Stuart Attwell  SheffieldUnited\n511  Away       2          Wolves  0.6  1.2      Darren Bond  SheffieldUnited\n\n[512 rows x 7 columns]",
      "text/html": "<div>\n<style scoped>\n    .dataframe tbody tr th:only-of-type {\n        vertical-align: middle;\n    }\n\n    .dataframe tbody tr th {\n        vertical-align: top;\n    }\n\n    .dataframe thead th {\n        text-align: right;\n    }\n</style>\n<table border=\"1\" class=\"dataframe\">\n  <thead>\n    <tr style=\"text-align: right;\">\n      <th></th>\n      <th>Venue</th>\n      <th>Result</th>\n      <th>Opponent</th>\n      <th>xG</th>\n      <th>xGA</th>\n      <th>Referee</th>\n      <th>Team</th>\n    </tr>\n  </thead>\n  <tbody>\n    <tr>\n      <th>0</th>\n      <td>Away</td>\n      <td>0</td>\n      <td>Chelsea</td>\n      <td>1.3</td>\n      <td>1.4</td>\n      <td>Anthony Taylor</td>\n      <td>Liverpool</td>\n    </tr>\n    <tr>\n      <th>1</th>\n      <td>Home</td>\n      <td>1</td>\n      <td>Bournemouth</td>\n      <td>3.0</td>\n      <td>1.3</td>\n      <td>Thomas Bramall</td>\n      <td>Liverpool</td>\n    </tr>\n    <tr>\n      <th>2</th>\n      <td>Away</td>\n      <td>1</td>\n      <td>Newcastle Utd</td>\n      <td>0.9</td>\n      <td>2.0</td>\n      <td>John Brooks</td>\n      <td>Liverpool</td>\n    </tr>\n    <tr>\n      <th>3</th>\n      <td>Home</td>\n      <td>1</td>\n      <td>Aston Villa</td>\n      <td>2.5</td>\n      <td>0.7</td>\n      <td>Simon Hooper</td>\n      <td>Liverpool</td>\n    </tr>\n    <tr>\n      <th>4</th>\n      <td>Away</td>\n      <td>1</td>\n      <td>Wolves</td>\n      <td>2.5</td>\n      <td>0.6</td>\n      <td>Michael Oliver</td>\n      <td>Liverpool</td>\n    </tr>\n    <tr>\n      <th>...</th>\n      <td>...</td>\n      <td>...</td>\n      <td>...</td>\n      <td>...</td>\n      <td>...</td>\n      <td>...</td>\n      <td>...</td>\n    </tr>\n    <tr>\n      <th>507</th>\n      <td>Away</td>\n      <td>2</td>\n      <td>Crystal Palace</td>\n      <td>0.8</td>\n      <td>1.1</td>\n      <td>Tony Harrington</td>\n      <td>SheffieldUnited</td>\n    </tr>\n    <tr>\n      <th>508</th>\n      <td>Home</td>\n      <td>2</td>\n      <td>Aston Villa</td>\n      <td>1.4</td>\n      <td>2.2</td>\n      <td>Paul Tierney</td>\n      <td>SheffieldUnited</td>\n    </tr>\n    <tr>\n      <th>509</th>\n      <td>Away</td>\n      <td>1</td>\n      <td>Luton Town</td>\n      <td>1.7</td>\n      <td>1.8</td>\n      <td>Chris Kavanagh</td>\n      <td>SheffieldUnited</td>\n    </tr>\n    <tr>\n      <th>510</th>\n      <td>Home</td>\n      <td>2</td>\n      <td>Brighton</td>\n      <td>0.6</td>\n      <td>2.9</td>\n      <td>Stuart Attwell</td>\n      <td>SheffieldUnited</td>\n    </tr>\n    <tr>\n      <th>511</th>\n      <td>Away</td>\n      <td>2</td>\n      <td>Wolves</td>\n      <td>0.6</td>\n      <td>1.2</td>\n      <td>Darren Bond</td>\n      <td>SheffieldUnited</td>\n    </tr>\n  </tbody>\n</table>\n<p>512 rows × 7 columns</p>\n</div>"
     },
     "execution_count": 3,
     "metadata": {},
     "output_type": "execute_result"
    }
   ],
   "source": [
    "#Lectura del archivo con la informacion a trabajar obtenida de Kaggle\n",
    "df = pd.read_csv(\"../data/processed/df_final.csv\")\n",
    "df"
   ],
   "metadata": {
    "collapsed": false,
    "ExecuteTime": {
     "end_time": "2024-05-07T02:30:17.285159Z",
     "start_time": "2024-05-07T02:30:17.256699Z"
    }
   },
   "id": "a39e5123691bdfaa",
   "execution_count": 3
  },
  {
   "cell_type": "code",
   "outputs": [],
   "source": [
    "X = df.drop(columns=[\"Result\"])\n",
    "y = df['Result']"
   ],
   "metadata": {
    "collapsed": false,
    "ExecuteTime": {
     "end_time": "2024-05-07T02:30:17.285847Z",
     "start_time": "2024-05-07T02:30:17.271918Z"
    }
   },
   "id": "fe557555a9a5cde8",
   "execution_count": 4
  },
  {
   "cell_type": "code",
   "outputs": [
    {
     "data": {
      "text/plain": "  Venue       Opponent   xG  xGA         Referee       Team\n0  Away        Chelsea  1.3  1.4  Anthony Taylor  Liverpool\n1  Home    Bournemouth  3.0  1.3  Thomas Bramall  Liverpool\n2  Away  Newcastle Utd  0.9  2.0     John Brooks  Liverpool\n3  Home    Aston Villa  2.5  0.7    Simon Hooper  Liverpool\n4  Away         Wolves  2.5  0.6  Michael Oliver  Liverpool",
      "text/html": "<div>\n<style scoped>\n    .dataframe tbody tr th:only-of-type {\n        vertical-align: middle;\n    }\n\n    .dataframe tbody tr th {\n        vertical-align: top;\n    }\n\n    .dataframe thead th {\n        text-align: right;\n    }\n</style>\n<table border=\"1\" class=\"dataframe\">\n  <thead>\n    <tr style=\"text-align: right;\">\n      <th></th>\n      <th>Venue</th>\n      <th>Opponent</th>\n      <th>xG</th>\n      <th>xGA</th>\n      <th>Referee</th>\n      <th>Team</th>\n    </tr>\n  </thead>\n  <tbody>\n    <tr>\n      <th>0</th>\n      <td>Away</td>\n      <td>Chelsea</td>\n      <td>1.3</td>\n      <td>1.4</td>\n      <td>Anthony Taylor</td>\n      <td>Liverpool</td>\n    </tr>\n    <tr>\n      <th>1</th>\n      <td>Home</td>\n      <td>Bournemouth</td>\n      <td>3.0</td>\n      <td>1.3</td>\n      <td>Thomas Bramall</td>\n      <td>Liverpool</td>\n    </tr>\n    <tr>\n      <th>2</th>\n      <td>Away</td>\n      <td>Newcastle Utd</td>\n      <td>0.9</td>\n      <td>2.0</td>\n      <td>John Brooks</td>\n      <td>Liverpool</td>\n    </tr>\n    <tr>\n      <th>3</th>\n      <td>Home</td>\n      <td>Aston Villa</td>\n      <td>2.5</td>\n      <td>0.7</td>\n      <td>Simon Hooper</td>\n      <td>Liverpool</td>\n    </tr>\n    <tr>\n      <th>4</th>\n      <td>Away</td>\n      <td>Wolves</td>\n      <td>2.5</td>\n      <td>0.6</td>\n      <td>Michael Oliver</td>\n      <td>Liverpool</td>\n    </tr>\n  </tbody>\n</table>\n</div>"
     },
     "execution_count": 5,
     "metadata": {},
     "output_type": "execute_result"
    }
   ],
   "source": [
    "X.head()"
   ],
   "metadata": {
    "collapsed": false,
    "ExecuteTime": {
     "end_time": "2024-05-07T02:30:17.296787Z",
     "start_time": "2024-05-07T02:30:17.277756Z"
    }
   },
   "id": "a106c8ea467d6bbc",
   "execution_count": 5
  },
  {
   "cell_type": "code",
   "outputs": [],
   "source": [
    "from sklearn.preprocessing import OrdinalEncoder\n",
    "encoder = OrdinalEncoder()\n",
    "X= encoder.fit_transform(X)"
   ],
   "metadata": {
    "collapsed": false,
    "ExecuteTime": {
     "end_time": "2024-05-07T02:30:17.620143Z",
     "start_time": "2024-05-07T02:30:17.280528Z"
    }
   },
   "id": "92872ccb43a8b09c",
   "execution_count": 6
  },
  {
   "cell_type": "code",
   "outputs": [
    {
     "data": {
      "text/plain": "array([[ 0.,  6., 13., 14.,  1., 10.],\n       [ 1.,  2., 30., 13., 23., 10.],\n       [ 0., 14.,  9., 20.,  9., 10.],\n       ...,\n       [ 0., 11., 17., 18.,  2., 16.],\n       [ 1.,  4.,  6., 29., 22., 16.],\n       [ 0., 19.,  6., 12.,  4., 16.]])"
     },
     "execution_count": 13,
     "metadata": {},
     "output_type": "execute_result"
    }
   ],
   "source": [
    "X\n",
    "\n"
   ],
   "metadata": {
    "collapsed": false,
    "ExecuteTime": {
     "end_time": "2024-05-08T01:05:13.093711Z",
     "start_time": "2024-05-08T01:05:13.079465Z"
    }
   },
   "id": "876b7e87ccc6ee74",
   "execution_count": 13
  },
  {
   "cell_type": "code",
   "outputs": [],
   "source": [
    "# Guardar label en pickle\n",
    "import pickle \n",
    "\n",
    "with open('x_encode.pkl', 'wb') as f:\n",
    "    pickle.dump(encoder, f)"
   ],
   "metadata": {
    "collapsed": false,
    "ExecuteTime": {
     "end_time": "2024-05-03T20:54:08.528301800Z",
     "start_time": "2024-05-03T20:54:08.521312600Z"
    }
   },
   "id": "ebabccc66cd449d4",
   "execution_count": 10
  },
  {
   "cell_type": "code",
   "outputs": [],
   "source": [
    "from sklearn.model_selection import train_test_split\n",
    "X_train, X_test, y_train, y_test = train_test_split(X, y, test_size=0.2, random_state=42)\n"
   ],
   "metadata": {
    "collapsed": false,
    "ExecuteTime": {
     "end_time": "2024-05-07T02:30:18.127437Z",
     "start_time": "2024-05-07T02:30:17.621645Z"
    }
   },
   "id": "7bb6897dffdddd92",
   "execution_count": 7
  },
  {
   "cell_type": "code",
   "outputs": [
    {
     "data": {
      "text/plain": "Initialized MLflow to track repo \u001B[32m\"SantiagoAguirre2002/PROYECTO-CD-Premiere-league\"\u001B[0m\n",
      "text/html": "<pre style=\"white-space:pre;overflow-x:auto;line-height:normal;font-family:Menlo,'DejaVu Sans Mono',consolas,'Courier New',monospace\">Initialized MLflow to track repo <span style=\"color: #008000; text-decoration-color: #008000\">\"SantiagoAguirre2002/PROYECTO-CD-Premiere-league\"</span>\n</pre>\n"
     },
     "metadata": {},
     "output_type": "display_data"
    },
    {
     "data": {
      "text/plain": "Repository SantiagoAguirre2002/PROYECTO-CD-Premiere-league initialized!\n",
      "text/html": "<pre style=\"white-space:pre;overflow-x:auto;line-height:normal;font-family:Menlo,'DejaVu Sans Mono',consolas,'Courier New',monospace\">Repository SantiagoAguirre2002/PROYECTO-CD-Premiere-league initialized!\n</pre>\n"
     },
     "metadata": {},
     "output_type": "display_data"
    }
   ],
   "source": [
    "import dagshub\n",
    "import mlflow\n",
    "\n",
    "dagshub.init(\"PROYECTO-CD-Premiere-league\", \"SantiagoAguirre2002\", mlflow=True)\n",
    "\n",
    "mlflow.set_tracking_uri('https://dagshub.com/IlseFlores/PROYECTO-CD-Premiere-league.mlflow')"
   ],
   "metadata": {
    "collapsed": false,
    "ExecuteTime": {
     "end_time": "2024-05-07T02:30:17.258781Z",
     "start_time": "2024-05-07T02:30:15.252146Z"
    }
   },
   "id": "24dd53aa99ba3092",
   "execution_count": 1
  },
  {
   "cell_type": "code",
   "outputs": [
    {
     "name": "stderr",
     "output_type": "stream",
     "text": [
      "C:\\Users\\tatob\\AppData\\Local\\Programs\\Python\\Python311\\Lib\\site-packages\\sklearn\\metrics\\_classification.py:1509: UndefinedMetricWarning: Precision is ill-defined and being set to 0.0 in labels with no predicted samples. Use `zero_division` parameter to control this behavior.\n",
      "  _warn_prf(average, modifier, f\"{metric.capitalize()} is\", len(result))\n"
     ]
    }
   ],
   "source": [
    " #pip install mlflow\n",
    "import mlflow\n",
    "from sklearn.linear_model import LogisticRegression\n",
    "from sklearn.metrics import roc_auc_score, accuracy_score, precision_score, recall_score\n",
    "\n",
    "name_model = \"LogisticRegression\"\n",
    "developer = \"Angel De la mora, Regina Flores, Santiago Aguirre\"\n",
    "\n",
    "parameters = {\n",
    "    \"penalty\": \"l2\",\n",
    "    \"C\": 1.0,\n",
    "    \"solver\": \"lbfgs\",\n",
    "    \"multi_class\": \"multinomial\", \n",
    "    \"max_iter\": 100,\n",
    "    \"random_state\": 42\n",
    "}\n",
    "\n",
    "with mlflow.start_run(run_name=name_model):\n",
    "    \n",
    "    mlflow.log_param(\"model\", name_model)\n",
    "    mlflow.log_param(\"developer\", developer)\n",
    "    \n",
    "    # Registrar parámetros del modelo\n",
    "    mlflow.log_params(parameters)\n",
    "    \n",
    "    # Entrenar un clasificador de regresión logística\n",
    "    logistic_regression_clf = LogisticRegression(**parameters)\n",
    "    logistic_regression_clf.fit(X_train, y_train)\n",
    "    \n",
    "    # Realizar predicciones\n",
    "    predictions = logistic_regression_clf.predict(X_test)\n",
    "    predictions_proba = logistic_regression_clf.predict_proba(X_test)\n",
    "\n",
    "    # Calcular métricas\n",
    "    accuracy = accuracy_score(y_test, predictions)\n",
    "    precision = precision_score(y_test, predictions, average='weighted')\n",
    "    recall = recall_score(y_test, predictions, average='weighted')\n",
    "    roc_auc = roc_auc_score(y_test, predictions_proba, average='weighted', multi_class='ovr')\n",
    "\n",
    "    # Registrar métricas\n",
    "    mlflow.log_metric(\"roc_auc\", roc_auc)\n",
    "    mlflow.log_metric(\"accuracy\", accuracy)\n",
    "    mlflow.log_metric(\"precision\", precision)\n",
    "    mlflow.log_metric(\"recall\", recall)\n",
    "    \n",
    "    # Registrar el modelo\n",
    "    mlflow.sklearn.log_model(logistic_regression_clf, \"logistic_regression_classifier\")\n"
   ],
   "metadata": {
    "collapsed": false,
    "ExecuteTime": {
     "end_time": "2024-05-03T20:54:38.321528100Z",
     "start_time": "2024-05-03T20:54:23.397802100Z"
    }
   },
   "id": "bd09ee958e2b015d",
   "execution_count": 13
  },
  {
   "cell_type": "markdown",
   "source": [
    "## Experimento1"
   ],
   "metadata": {
    "collapsed": false
   },
   "id": "dbb897ee69014ed6"
  },
  {
   "cell_type": "code",
   "outputs": [],
   "source": [
    "import mlflow\n",
    "from sklearn.linear_model import LogisticRegression\n",
    "from sklearn.metrics import roc_auc_score, accuracy_score, precision_score, recall_score\n",
    "\n",
    "name_model = \"LogisticRegression\"\n",
    "developer = \"Angel De la mora, Regina Flores, Santiago Aguirre\"\n",
    "\n",
    "parameters = {\n",
    "    \"penalty\": \"l2\",\n",
    "    \"C\": 1.0,\n",
    "    \"solver\": \"lbfgs\",\n",
    "    \"multi_class\": \"multinomial\", \n",
    "    \"max_iter\": 100,\n",
    "    \"random_state\": 42\n",
    "}\n",
    "\n",
    "with mlflow.start_run(run_name=name_model):\n",
    "    \n",
    "    mlflow.log_param(\"model\", name_model)\n",
    "    mlflow.log_param(\"developer\", developer)\n",
    "    \n",
    "    # Registrar parámetros del modelo\n",
    "    mlflow.log_params(parameters)\n",
    "    \n",
    "    # Entrenar un clasificador de regresión logística\n",
    "    logistic_regression_clf = LogisticRegression(**parameters)\n",
    "    logistic_regression_clf.fit(X_train, y_train)\n",
    "    \n",
    "    # Realizar predicciones\n",
    "    predictions = logistic_regression_clf.predict(X_test)\n",
    "    predictions_proba = logistic_regression_clf.predict_proba(X_test)\n",
    "\n",
    "    # Calcular métricas\n",
    "    accuracy = accuracy_score(y_test, predictions)\n",
    "    precision = precision_score(y_test, predictions, average='weighted')\n",
    "    recall = recall_score(y_test, predictions, average='weighted')\n",
    "    roc_auc = roc_auc_score(y_test, predictions_proba, average='weighted', multi_class='ovr')\n",
    "\n",
    "    # Registrar métricas\n",
    "    mlflow.log_metric(\"roc_auc\", roc_auc)\n",
    "    mlflow.log_metric(\"accuracy\", accuracy)\n",
    "    mlflow.log_metric(\"precision\", precision)\n",
    "    mlflow.log_metric(\"recall\", recall)\n",
    "    \n",
    "    # Registrar el modelo\n",
    "    mlflow.sklearn.log_model(logistic_regression_clf, \"logistic_regression_classifier\")\n"
   ],
   "metadata": {
    "collapsed": false
   },
   "id": "ad07f392dd481d4b",
   "execution_count": null
  },
  {
   "cell_type": "markdown",
   "source": [
    "## Experimento 2"
   ],
   "metadata": {
    "collapsed": false
   },
   "id": "8838917a0457ef81"
  },
  {
   "cell_type": "code",
   "outputs": [],
   "source": [
    "from sklearn.model_selection import GridSearchCV\n",
    "from sklearn.neural_network import MLPClassifier\n",
    "\n",
    "param_grid = {\n",
    "    'hidden_layer_sizes': [(100,), (50, 50), (50, 100, 50)],\n",
    "    'activation': ['logistic', 'relu'],\n",
    "    'solver': ['adam', 'sgd'],\n",
    "    'alpha': [0.0001, 0.001, 0.01],\n",
    "    'learning_rate': ['constant', 'adaptive'],\n",
    "}\n",
    "\n",
    "mlp_clf = MLPClassifier(random_state=42)\n",
    "\n",
    "grid_search = GridSearchCV(estimator=mlp_clf, param_grid=param_grid, cv=5)\n",
    "\n",
    "grid_search.fit(X_train, y_train)\n",
    "\n",
    "best_params = grid_search.best_params_\n",
    "print(\"Mejores parámetros:\", best_params)\n"
   ],
   "metadata": {
    "collapsed": false
   },
   "id": "c21a9866b9c1937f",
   "execution_count": null
  },
  {
   "cell_type": "code",
   "outputs": [],
   "source": [
    "import mlflow\n",
    "from sklearn.neural_network import MLPClassifier\n",
    "from sklearn.metrics import roc_auc_score, accuracy_score, precision_score, recall_score\n",
    "\n",
    "name_model = \"MLPClassifier\"\n",
    "developer = \"Angel De la mora, Regina Flores, Santiago Aguirre\"\n",
    "\n",
    "# Mejores parámetros encontrados\n",
    "best_params = {\n",
    "    \"hidden_layer_sizes\": (50, 50),\n",
    "    \"activation\": \"logistic\",\n",
    "    \"solver\": \"adam\",\n",
    "    \"alpha\": 0.0001,\n",
    "    \"learning_rate\": \"constant\",\n",
    "    \"max_iter\": 1000,  # Aumentamos el número de iteraciones\n",
    "    \"random_state\": 42\n",
    "}\n",
    "\n",
    "with mlflow.start_run(run_name=name_model):\n",
    "    \n",
    "    mlflow.log_param(\"model\", name_model)\n",
    "    mlflow.log_param(\"developer\", developer)\n",
    "    \n",
    "    # Registrar parámetros del modelo\n",
    "    mlflow.log_params(best_params)\n",
    "    \n",
    "    # Entrenar un clasificador de red neuronal\n",
    "    mlp_clf = MLPClassifier(**best_params)\n",
    "    mlp_clf.fit(X_train, y_train)\n",
    "    \n",
    "    # Realizar predicciones\n",
    "    predictions = mlp_clf.predict(X_test)\n",
    "    predictions_proba = mlp_clf.predict_proba(X_test)\n",
    "\n",
    "    # Calcular métricas\n",
    "    accuracy = accuracy_score(y_test, predictions)\n",
    "    precision = precision_score(y_test, predictions, average='weighted')\n",
    "    recall = recall_score(y_test, predictions, average='weighted')\n",
    "    roc_auc = roc_auc_score(y_test, predictions_proba, average='weighted')\n",
    "\n",
    "    # Registrar métricas\n",
    "    mlflow.log_metric(\"roc_auc\", roc_auc)\n",
    "    mlflow.log_metric(\"accuracy\", accuracy)\n",
    "    mlflow.log_metric(\"precision\", precision)\n",
    "    mlflow.log_metric(\"recall\", recall)\n",
    "    \n",
    "    # Registrar el modelo\n",
    "    mlflow.sklearn.log_model(mlp_clf, \"mlp_classifier\")\n"
   ],
   "metadata": {
    "collapsed": false
   },
   "id": "1b5374427bb2ff11",
   "execution_count": null
  },
  {
   "cell_type": "markdown",
   "source": [
    "### Experimento 3\n"
   ],
   "metadata": {
    "collapsed": false
   },
   "id": "76cebb32ccac4b53"
  },
  {
   "cell_type": "code",
   "outputs": [],
   "source": [
    "from sklearn.model_selection import GridSearchCV\n",
    "from sklearn.ensemble import RandomForestClassifier\n",
    "\n",
    "param_grid = {\n",
    "    'n_estimators': [100, 200, 300],  \n",
    "    'max_depth': [None, 10, 20, 30],  \n",
    "    'min_samples_split': [2, 5, 10],   \n",
    "    'min_samples_leaf': [1, 2, 4],  \n",
    "    \n",
    "    'max_features': ['auto', 'sqrt'],  \n",
    "}\n",
    "\n",
    "rf_clf = RandomForestClassifier(random_state=42)\n",
    "\n",
    "grid_search = GridSearchCV(estimator=rf_clf, param_grid=param_grid, cv=5)\n",
    "\n",
    "grid_search.fit(X_train, y_train)\n",
    "\n",
    "best_params = grid_search.best_params_\n",
    "print(\"Mejores parámetros:\", best_params)"
   ],
   "metadata": {
    "collapsed": false
   },
   "id": "f58867bb8b430f32"
  },
  {
   "cell_type": "code",
   "outputs": [],
   "source": [
    "import mlflow\n",
    "from sklearn.ensemble import RandomForestClassifier\n",
    "from sklearn.metrics import roc_auc_score, accuracy_score, precision_score, recall_score\n",
    "\n",
    "name_model = \"RandomForestClassifier\"\n",
    "developer = \"Angel De la mora, Regina Flores, Santiago Aguirre\"\n",
    "\n",
    "# Mejores parámetros encontrados\n",
    "best_params = {\n",
    "    'max_depth': None,\n",
    "    'max_features': 'sqrt',\n",
    "    'min_samples_leaf': 1,\n",
    "    'min_samples_split': 5,\n",
    "    'n_estimators': 200,\n",
    "    'random_state': 42\n",
    "}\n",
    "\n",
    "with mlflow.start_run(run_name=name_model):\n",
    "    \n",
    "    mlflow.log_param(\"model\", name_model)\n",
    "    mlflow.log_param(\"developer\", developer)\n",
    "    \n",
    "    # Registrar parámetros del modelo\n",
    "    mlflow.log_params(best_params)\n",
    "    \n",
    "    # Entrenar un clasificador de Random Forest\n",
    "    rf_clf = RandomForestClassifier(**best_params)\n",
    "    rf_clf.fit(X_train, y_train)\n",
    "    \n",
    "    # Realizar predicciones\n",
    "    predictions = rf_clf.predict(X_test)\n",
    "    predictions_proba = rf_clf.predict_proba(X_test)\n",
    "\n",
    "    # Calcular métricas\n",
    "    accuracy = accuracy_score(y_test, predictions)\n",
    "    precision = precision_score(y_test, predictions, average='weighted')\n",
    "    recall = recall_score(y_test, predictions, average='weighted')\n",
    "    roc_auc = roc_auc_score(y_test, predictions_proba, average='weighted', multi_class='ovr')\n",
    "\n",
    "    # Registrar métricas\n",
    "    mlflow.log_metric(\"roc_auc\", roc_auc)\n",
    "    mlflow.log_metric(\"accuracy\", accuracy)\n",
    "    mlflow.log_metric(\"precision\", precision)\n",
    "    mlflow.log_metric(\"recall\", recall)\n",
    "    \n",
    "    # Registrar el modelo\n",
    "    mlflow.sklearn.log_model(rf_clf, \"random_forest_classifier\")"
   ],
   "metadata": {
    "collapsed": false
   },
   "id": "cdf455dc66c6a854"
  },
  {
   "cell_type": "markdown",
   "source": [
    "# Experimento 4\n",
    "\n"
   ],
   "metadata": {
    "collapsed": false
   },
   "id": "764979199e3aae31"
  },
  {
   "cell_type": "code",
   "outputs": [],
   "source": [
    "import mlflow\n",
    "from sklearn.svm import SVC\n",
    "from sklearn.metrics import accuracy_score, precision_score, recall_score\n",
    "\n",
    "# Define el nombre del modelo y del desarrollador\n",
    "model_name = \"SVM\"\n",
    "developer = \"Angel De la mora, Regina Flores, Santiago Aguirre\"\n",
    "\n",
    "# Define los parámetros del modelo\n",
    "svm_params = {\"kernel\": \"linear\"}\n",
    "\n",
    "# Inicia un nuevo experimento en MLflow\n",
    "with mlflow.start_run(run_name=model_name):\n",
    "    mlflow.log_param(\"model\", model_name)\n",
    "    mlflow.log_param(\"developer\", developer)\n",
    "    mlflow.log_params(svm_params)\n",
    "\n",
    "    # Entrena el modelo SVM\n",
    "    svm_model = SVC(**svm_params)\n",
    "    svm_model.fit(X_train, y_train)\n",
    "\n",
    "    # Realiza predicciones\n",
    "    svm_predictions = svm_model.predict(X_test)\n",
    "\n",
    "    # Calcula métricas\n",
    "    accuracy = accuracy_score(y_test, svm_predictions)\n",
    "    precision = precision_score(y_test, svm_predictions, average='weighted')\n",
    "    recall = recall_score(y_test, svm_predictions, average='weighted')\n",
    "\n",
    "    # Registra métricas\n",
    "    mlflow.log_metric(\"accuracy\", accuracy)\n",
    "    mlflow.log_metric(\"precision\", precision)\n",
    "    mlflow.log_metric(\"recall\", recall)\n",
    "\n",
    "    # Registra el modelo entrenado\n",
    "    mlflow.sklearn.log_model(svm_model, \"svm_model\")"
   ],
   "metadata": {
    "collapsed": false,
    "ExecuteTime": {
     "end_time": "2024-05-06T04:26:38.562147200Z",
     "start_time": "2024-05-06T04:26:22.099854400Z"
    }
   },
   "id": "9609d204efa850fe",
   "execution_count": 9
  },
  {
   "cell_type": "markdown",
   "source": [
    "# Experimento 5"
   ],
   "metadata": {
    "collapsed": false
   },
   "id": "3b4e967ab27bf721"
  },
  {
   "cell_type": "code",
   "outputs": [
    {
     "name": "stdout",
     "output_type": "stream",
     "text": [
      "Epoch 1/100\n"
     ]
    },
    {
     "name": "stderr",
     "output_type": "stream",
     "text": [
      "C:\\Users\\tatob\\AppData\\Local\\Programs\\Python\\Python311\\Lib\\site-packages\\keras\\src\\layers\\core\\dense.py:87: UserWarning: Do not pass an `input_shape`/`input_dim` argument to a layer. When using Sequential models, prefer using an `Input(shape)` object as the first layer in the model instead.\n",
      "  super().__init__(activity_regularizer=activity_regularizer, **kwargs)\n"
     ]
    },
    {
     "name": "stdout",
     "output_type": "stream",
     "text": [
      "\u001B[1m11/11\u001B[0m \u001B[32m━━━━━━━━━━━━━━━━━━━━\u001B[0m\u001B[37m\u001B[0m \u001B[1m1s\u001B[0m 18ms/step - accuracy: 0.3597 - loss: 2.8545 - val_accuracy: 0.4146 - val_loss: 1.8170\n",
      "Epoch 2/100\n",
      "\u001B[1m11/11\u001B[0m \u001B[32m━━━━━━━━━━━━━━━━━━━━\u001B[0m\u001B[37m\u001B[0m \u001B[1m0s\u001B[0m 5ms/step - accuracy: 0.5348 - loss: 1.4883 - val_accuracy: 0.4878 - val_loss: 1.0617\n",
      "Epoch 3/100\n",
      "\u001B[1m11/11\u001B[0m \u001B[32m━━━━━━━━━━━━━━━━━━━━\u001B[0m\u001B[37m\u001B[0m \u001B[1m0s\u001B[0m 4ms/step - accuracy: 0.5065 - loss: 0.9897 - val_accuracy: 0.5976 - val_loss: 1.0661\n",
      "Epoch 4/100\n",
      "\u001B[1m11/11\u001B[0m \u001B[32m━━━━━━━━━━━━━━━━━━━━\u001B[0m\u001B[37m\u001B[0m \u001B[1m0s\u001B[0m 5ms/step - accuracy: 0.6205 - loss: 0.9377 - val_accuracy: 0.5854 - val_loss: 1.0519\n",
      "Epoch 5/100\n",
      "\u001B[1m11/11\u001B[0m \u001B[32m━━━━━━━━━━━━━━━━━━━━\u001B[0m\u001B[37m\u001B[0m \u001B[1m0s\u001B[0m 4ms/step - accuracy: 0.6155 - loss: 0.8348 - val_accuracy: 0.5244 - val_loss: 1.0317\n",
      "Epoch 6/100\n",
      "\u001B[1m11/11\u001B[0m \u001B[32m━━━━━━━━━━━━━━━━━━━━\u001B[0m\u001B[37m\u001B[0m \u001B[1m0s\u001B[0m 5ms/step - accuracy: 0.6527 - loss: 0.7858 - val_accuracy: 0.5610 - val_loss: 1.0323\n",
      "Epoch 7/100\n",
      "\u001B[1m11/11\u001B[0m \u001B[32m━━━━━━━━━━━━━━━━━━━━\u001B[0m\u001B[37m\u001B[0m \u001B[1m0s\u001B[0m 4ms/step - accuracy: 0.6610 - loss: 0.7878 - val_accuracy: 0.5488 - val_loss: 0.9912\n",
      "Epoch 8/100\n",
      "\u001B[1m11/11\u001B[0m \u001B[32m━━━━━━━━━━━━━━━━━━━━\u001B[0m\u001B[37m\u001B[0m \u001B[1m0s\u001B[0m 5ms/step - accuracy: 0.6027 - loss: 0.8098 - val_accuracy: 0.5732 - val_loss: 1.0637\n",
      "Epoch 9/100\n",
      "\u001B[1m11/11\u001B[0m \u001B[32m━━━━━━━━━━━━━━━━━━━━\u001B[0m\u001B[37m\u001B[0m \u001B[1m0s\u001B[0m 5ms/step - accuracy: 0.6562 - loss: 0.8153 - val_accuracy: 0.5488 - val_loss: 0.9917\n",
      "Epoch 10/100\n",
      "\u001B[1m11/11\u001B[0m \u001B[32m━━━━━━━━━━━━━━━━━━━━\u001B[0m\u001B[37m\u001B[0m \u001B[1m0s\u001B[0m 5ms/step - accuracy: 0.6422 - loss: 0.7492 - val_accuracy: 0.5488 - val_loss: 1.0305\n",
      "Epoch 11/100\n",
      "\u001B[1m11/11\u001B[0m \u001B[32m━━━━━━━━━━━━━━━━━━━━\u001B[0m\u001B[37m\u001B[0m \u001B[1m0s\u001B[0m 5ms/step - accuracy: 0.6564 - loss: 0.7855 - val_accuracy: 0.5488 - val_loss: 0.9887\n",
      "Epoch 12/100\n",
      "\u001B[1m11/11\u001B[0m \u001B[32m━━━━━━━━━━━━━━━━━━━━\u001B[0m\u001B[37m\u001B[0m \u001B[1m0s\u001B[0m 5ms/step - accuracy: 0.6521 - loss: 0.7616 - val_accuracy: 0.5244 - val_loss: 1.0328\n",
      "Epoch 13/100\n",
      "\u001B[1m11/11\u001B[0m \u001B[32m━━━━━━━━━━━━━━━━━━━━\u001B[0m\u001B[37m\u001B[0m \u001B[1m0s\u001B[0m 5ms/step - accuracy: 0.6229 - loss: 0.8036 - val_accuracy: 0.5488 - val_loss: 1.0116\n",
      "Epoch 14/100\n",
      "\u001B[1m11/11\u001B[0m \u001B[32m━━━━━━━━━━━━━━━━━━━━\u001B[0m\u001B[37m\u001B[0m \u001B[1m0s\u001B[0m 5ms/step - accuracy: 0.6564 - loss: 0.7543 - val_accuracy: 0.5244 - val_loss: 1.0115\n",
      "Epoch 15/100\n",
      "\u001B[1m11/11\u001B[0m \u001B[32m━━━━━━━━━━━━━━━━━━━━\u001B[0m\u001B[37m\u001B[0m \u001B[1m0s\u001B[0m 6ms/step - accuracy: 0.6627 - loss: 0.7518 - val_accuracy: 0.5244 - val_loss: 1.0329\n",
      "Epoch 16/100\n",
      "\u001B[1m11/11\u001B[0m \u001B[32m━━━━━━━━━━━━━━━━━━━━\u001B[0m\u001B[37m\u001B[0m \u001B[1m0s\u001B[0m 5ms/step - accuracy: 0.6403 - loss: 0.7936 - val_accuracy: 0.5610 - val_loss: 0.9949\n",
      "Epoch 17/100\n",
      "\u001B[1m11/11\u001B[0m \u001B[32m━━━━━━━━━━━━━━━━━━━━\u001B[0m\u001B[37m\u001B[0m \u001B[1m0s\u001B[0m 4ms/step - accuracy: 0.6594 - loss: 0.7787 - val_accuracy: 0.5488 - val_loss: 1.0092\n",
      "Epoch 18/100\n",
      "\u001B[1m11/11\u001B[0m \u001B[32m━━━━━━━━━━━━━━━━━━━━\u001B[0m\u001B[37m\u001B[0m \u001B[1m0s\u001B[0m 5ms/step - accuracy: 0.6709 - loss: 0.7606 - val_accuracy: 0.5610 - val_loss: 1.0116\n",
      "Epoch 19/100\n",
      "\u001B[1m11/11\u001B[0m \u001B[32m━━━━━━━━━━━━━━━━━━━━\u001B[0m\u001B[37m\u001B[0m \u001B[1m0s\u001B[0m 5ms/step - accuracy: 0.6598 - loss: 0.7702 - val_accuracy: 0.5244 - val_loss: 1.0378\n",
      "Epoch 20/100\n",
      "\u001B[1m11/11\u001B[0m \u001B[32m━━━━━━━━━━━━━━━━━━━━\u001B[0m\u001B[37m\u001B[0m \u001B[1m0s\u001B[0m 4ms/step - accuracy: 0.6521 - loss: 0.7658 - val_accuracy: 0.5732 - val_loss: 1.0099\n",
      "Epoch 21/100\n",
      "\u001B[1m11/11\u001B[0m \u001B[32m━━━━━━━━━━━━━━━━━━━━\u001B[0m\u001B[37m\u001B[0m \u001B[1m0s\u001B[0m 4ms/step - accuracy: 0.6695 - loss: 0.7507 - val_accuracy: 0.5732 - val_loss: 1.0284\n",
      "Epoch 22/100\n",
      "\u001B[1m11/11\u001B[0m \u001B[32m━━━━━━━━━━━━━━━━━━━━\u001B[0m\u001B[37m\u001B[0m \u001B[1m0s\u001B[0m 6ms/step - accuracy: 0.6484 - loss: 0.7651 - val_accuracy: 0.5366 - val_loss: 0.9945\n",
      "Epoch 23/100\n",
      "\u001B[1m11/11\u001B[0m \u001B[32m━━━━━━━━━━━━━━━━━━━━\u001B[0m\u001B[37m\u001B[0m \u001B[1m0s\u001B[0m 5ms/step - accuracy: 0.6408 - loss: 0.7555 - val_accuracy: 0.5732 - val_loss: 1.0483\n",
      "Epoch 24/100\n",
      "\u001B[1m11/11\u001B[0m \u001B[32m━━━━━━━━━━━━━━━━━━━━\u001B[0m\u001B[37m\u001B[0m \u001B[1m0s\u001B[0m 4ms/step - accuracy: 0.6719 - loss: 0.7173 - val_accuracy: 0.5610 - val_loss: 1.0166\n",
      "Epoch 25/100\n",
      "\u001B[1m11/11\u001B[0m \u001B[32m━━━━━━━━━━━━━━━━━━━━\u001B[0m\u001B[37m\u001B[0m \u001B[1m0s\u001B[0m 5ms/step - accuracy: 0.6897 - loss: 0.7326 - val_accuracy: 0.5610 - val_loss: 1.0502\n",
      "Epoch 26/100\n",
      "\u001B[1m11/11\u001B[0m \u001B[32m━━━━━━━━━━━━━━━━━━━━\u001B[0m\u001B[37m\u001B[0m \u001B[1m0s\u001B[0m 4ms/step - accuracy: 0.6668 - loss: 0.7252 - val_accuracy: 0.5732 - val_loss: 1.0204\n",
      "Epoch 27/100\n",
      "\u001B[1m11/11\u001B[0m \u001B[32m━━━━━━━━━━━━━━━━━━━━\u001B[0m\u001B[37m\u001B[0m \u001B[1m0s\u001B[0m 5ms/step - accuracy: 0.6724 - loss: 0.7113 - val_accuracy: 0.5488 - val_loss: 1.0615\n",
      "Epoch 28/100\n",
      "\u001B[1m11/11\u001B[0m \u001B[32m━━━━━━━━━━━━━━━━━━━━\u001B[0m\u001B[37m\u001B[0m \u001B[1m0s\u001B[0m 4ms/step - accuracy: 0.6336 - loss: 0.7773 - val_accuracy: 0.5610 - val_loss: 1.0214\n",
      "Epoch 29/100\n",
      "\u001B[1m11/11\u001B[0m \u001B[32m━━━━━━━━━━━━━━━━━━━━\u001B[0m\u001B[37m\u001B[0m \u001B[1m0s\u001B[0m 4ms/step - accuracy: 0.6813 - loss: 0.7365 - val_accuracy: 0.5732 - val_loss: 1.0510\n",
      "Epoch 30/100\n",
      "\u001B[1m11/11\u001B[0m \u001B[32m━━━━━━━━━━━━━━━━━━━━\u001B[0m\u001B[37m\u001B[0m \u001B[1m0s\u001B[0m 6ms/step - accuracy: 0.6863 - loss: 0.7206 - val_accuracy: 0.5610 - val_loss: 1.0334\n",
      "Epoch 31/100\n",
      "\u001B[1m11/11\u001B[0m \u001B[32m━━━━━━━━━━━━━━━━━━━━\u001B[0m\u001B[37m\u001B[0m \u001B[1m0s\u001B[0m 5ms/step - accuracy: 0.6497 - loss: 0.7443 - val_accuracy: 0.5488 - val_loss: 1.0823\n",
      "Epoch 32/100\n",
      "\u001B[1m11/11\u001B[0m \u001B[32m━━━━━━━━━━━━━━━━━━━━\u001B[0m\u001B[37m\u001B[0m \u001B[1m0s\u001B[0m 4ms/step - accuracy: 0.6389 - loss: 0.7623 - val_accuracy: 0.5732 - val_loss: 1.0454\n",
      "Epoch 33/100\n",
      "\u001B[1m11/11\u001B[0m \u001B[32m━━━━━━━━━━━━━━━━━━━━\u001B[0m\u001B[37m\u001B[0m \u001B[1m0s\u001B[0m 4ms/step - accuracy: 0.6825 - loss: 0.7328 - val_accuracy: 0.5854 - val_loss: 1.0434\n",
      "Epoch 34/100\n",
      "\u001B[1m11/11\u001B[0m \u001B[32m━━━━━━━━━━━━━━━━━━━━\u001B[0m\u001B[37m\u001B[0m \u001B[1m0s\u001B[0m 5ms/step - accuracy: 0.6612 - loss: 0.7598 - val_accuracy: 0.5854 - val_loss: 1.0610\n",
      "Epoch 35/100\n",
      "\u001B[1m11/11\u001B[0m \u001B[32m━━━━━━━━━━━━━━━━━━━━\u001B[0m\u001B[37m\u001B[0m \u001B[1m0s\u001B[0m 6ms/step - accuracy: 0.6453 - loss: 0.7664 - val_accuracy: 0.5610 - val_loss: 1.0358\n",
      "Epoch 36/100\n",
      "\u001B[1m11/11\u001B[0m \u001B[32m━━━━━━━━━━━━━━━━━━━━\u001B[0m\u001B[37m\u001B[0m \u001B[1m0s\u001B[0m 5ms/step - accuracy: 0.6513 - loss: 0.7234 - val_accuracy: 0.5366 - val_loss: 1.0609\n",
      "Epoch 37/100\n",
      "\u001B[1m11/11\u001B[0m \u001B[32m━━━━━━━━━━━━━━━━━━━━\u001B[0m\u001B[37m\u001B[0m \u001B[1m0s\u001B[0m 4ms/step - accuracy: 0.6779 - loss: 0.7297 - val_accuracy: 0.5610 - val_loss: 1.0826\n",
      "Epoch 38/100\n",
      "\u001B[1m11/11\u001B[0m \u001B[32m━━━━━━━━━━━━━━━━━━━━\u001B[0m\u001B[37m\u001B[0m \u001B[1m0s\u001B[0m 5ms/step - accuracy: 0.6994 - loss: 0.7231 - val_accuracy: 0.5244 - val_loss: 1.0943\n",
      "Epoch 39/100\n",
      "\u001B[1m11/11\u001B[0m \u001B[32m━━━━━━━━━━━━━━━━━━━━\u001B[0m\u001B[37m\u001B[0m \u001B[1m0s\u001B[0m 7ms/step - accuracy: 0.6168 - loss: 0.7729 - val_accuracy: 0.5854 - val_loss: 1.0922\n",
      "Epoch 40/100\n",
      "\u001B[1m11/11\u001B[0m \u001B[32m━━━━━━━━━━━━━━━━━━━━\u001B[0m\u001B[37m\u001B[0m \u001B[1m0s\u001B[0m 8ms/step - accuracy: 0.6600 - loss: 0.6896 - val_accuracy: 0.5366 - val_loss: 1.0599\n",
      "Epoch 41/100\n",
      "\u001B[1m11/11\u001B[0m \u001B[32m━━━━━━━━━━━━━━━━━━━━\u001B[0m\u001B[37m\u001B[0m \u001B[1m0s\u001B[0m 6ms/step - accuracy: 0.6891 - loss: 0.7274 - val_accuracy: 0.5732 - val_loss: 1.0631\n",
      "Epoch 42/100\n",
      "\u001B[1m11/11\u001B[0m \u001B[32m━━━━━━━━━━━━━━━━━━━━\u001B[0m\u001B[37m\u001B[0m \u001B[1m0s\u001B[0m 4ms/step - accuracy: 0.6509 - loss: 0.7221 - val_accuracy: 0.5610 - val_loss: 1.0936\n",
      "Epoch 43/100\n",
      "\u001B[1m11/11\u001B[0m \u001B[32m━━━━━━━━━━━━━━━━━━━━\u001B[0m\u001B[37m\u001B[0m \u001B[1m0s\u001B[0m 5ms/step - accuracy: 0.6847 - loss: 0.6971 - val_accuracy: 0.5610 - val_loss: 1.0761\n",
      "Epoch 44/100\n",
      "\u001B[1m11/11\u001B[0m \u001B[32m━━━━━━━━━━━━━━━━━━━━\u001B[0m\u001B[37m\u001B[0m \u001B[1m0s\u001B[0m 6ms/step - accuracy: 0.7041 - loss: 0.6854 - val_accuracy: 0.5366 - val_loss: 1.0734\n",
      "Epoch 45/100\n",
      "\u001B[1m11/11\u001B[0m \u001B[32m━━━━━━━━━━━━━━━━━━━━\u001B[0m\u001B[37m\u001B[0m \u001B[1m0s\u001B[0m 5ms/step - accuracy: 0.6805 - loss: 0.7070 - val_accuracy: 0.5976 - val_loss: 1.1029\n",
      "Epoch 46/100\n",
      "\u001B[1m11/11\u001B[0m \u001B[32m━━━━━━━━━━━━━━━━━━━━\u001B[0m\u001B[37m\u001B[0m \u001B[1m0s\u001B[0m 5ms/step - accuracy: 0.6710 - loss: 0.6845 - val_accuracy: 0.5488 - val_loss: 1.0762\n",
      "Epoch 47/100\n",
      "\u001B[1m11/11\u001B[0m \u001B[32m━━━━━━━━━━━━━━━━━━━━\u001B[0m\u001B[37m\u001B[0m \u001B[1m0s\u001B[0m 7ms/step - accuracy: 0.6973 - loss: 0.6933 - val_accuracy: 0.5732 - val_loss: 1.1311\n",
      "Epoch 48/100\n",
      "\u001B[1m11/11\u001B[0m \u001B[32m━━━━━━━━━━━━━━━━━━━━\u001B[0m\u001B[37m\u001B[0m \u001B[1m0s\u001B[0m 6ms/step - accuracy: 0.6585 - loss: 0.7467 - val_accuracy: 0.5488 - val_loss: 1.0804\n",
      "Epoch 49/100\n",
      "\u001B[1m11/11\u001B[0m \u001B[32m━━━━━━━━━━━━━━━━━━━━\u001B[0m\u001B[37m\u001B[0m \u001B[1m0s\u001B[0m 5ms/step - accuracy: 0.6988 - loss: 0.6605 - val_accuracy: 0.5488 - val_loss: 1.1399\n",
      "Epoch 50/100\n",
      "\u001B[1m11/11\u001B[0m \u001B[32m━━━━━━━━━━━━━━━━━━━━\u001B[0m\u001B[37m\u001B[0m \u001B[1m0s\u001B[0m 4ms/step - accuracy: 0.6852 - loss: 0.6908 - val_accuracy: 0.5610 - val_loss: 1.0776\n",
      "Epoch 51/100\n",
      "\u001B[1m11/11\u001B[0m \u001B[32m━━━━━━━━━━━━━━━━━━━━\u001B[0m\u001B[37m\u001B[0m \u001B[1m0s\u001B[0m 4ms/step - accuracy: 0.6806 - loss: 0.6910 - val_accuracy: 0.5732 - val_loss: 1.1019\n",
      "Epoch 52/100\n",
      "\u001B[1m11/11\u001B[0m \u001B[32m━━━━━━━━━━━━━━━━━━━━\u001B[0m\u001B[37m\u001B[0m \u001B[1m0s\u001B[0m 5ms/step - accuracy: 0.6927 - loss: 0.7115 - val_accuracy: 0.5610 - val_loss: 1.0981\n",
      "Epoch 53/100\n",
      "\u001B[1m11/11\u001B[0m \u001B[32m━━━━━━━━━━━━━━━━━━━━\u001B[0m\u001B[37m\u001B[0m \u001B[1m0s\u001B[0m 4ms/step - accuracy: 0.7013 - loss: 0.6733 - val_accuracy: 0.5610 - val_loss: 1.1100\n",
      "Epoch 54/100\n",
      "\u001B[1m11/11\u001B[0m \u001B[32m━━━━━━━━━━━━━━━━━━━━\u001B[0m\u001B[37m\u001B[0m \u001B[1m0s\u001B[0m 4ms/step - accuracy: 0.7369 - loss: 0.6918 - val_accuracy: 0.5610 - val_loss: 1.0938\n",
      "Epoch 55/100\n",
      "\u001B[1m11/11\u001B[0m \u001B[32m━━━━━━━━━━━━━━━━━━━━\u001B[0m\u001B[37m\u001B[0m \u001B[1m0s\u001B[0m 5ms/step - accuracy: 0.7269 - loss: 0.6464 - val_accuracy: 0.5610 - val_loss: 1.0934\n",
      "Epoch 56/100\n",
      "\u001B[1m11/11\u001B[0m \u001B[32m━━━━━━━━━━━━━━━━━━━━\u001B[0m\u001B[37m\u001B[0m \u001B[1m0s\u001B[0m 4ms/step - accuracy: 0.6730 - loss: 0.7018 - val_accuracy: 0.5854 - val_loss: 1.1144\n",
      "Epoch 57/100\n",
      "\u001B[1m11/11\u001B[0m \u001B[32m━━━━━━━━━━━━━━━━━━━━\u001B[0m\u001B[37m\u001B[0m \u001B[1m0s\u001B[0m 5ms/step - accuracy: 0.6994 - loss: 0.6340 - val_accuracy: 0.5244 - val_loss: 1.1011\n",
      "Epoch 58/100\n",
      "\u001B[1m11/11\u001B[0m \u001B[32m━━━━━━━━━━━━━━━━━━━━\u001B[0m\u001B[37m\u001B[0m \u001B[1m0s\u001B[0m 4ms/step - accuracy: 0.7130 - loss: 0.6920 - val_accuracy: 0.5610 - val_loss: 1.1538\n",
      "Epoch 59/100\n",
      "\u001B[1m11/11\u001B[0m \u001B[32m━━━━━━━━━━━━━━━━━━━━\u001B[0m\u001B[37m\u001B[0m \u001B[1m0s\u001B[0m 6ms/step - accuracy: 0.6601 - loss: 0.6955 - val_accuracy: 0.5976 - val_loss: 1.1098\n",
      "Epoch 60/100\n",
      "\u001B[1m11/11\u001B[0m \u001B[32m━━━━━━━━━━━━━━━━━━━━\u001B[0m\u001B[37m\u001B[0m \u001B[1m0s\u001B[0m 5ms/step - accuracy: 0.7155 - loss: 0.6819 - val_accuracy: 0.5488 - val_loss: 1.0980\n",
      "Epoch 61/100\n",
      "\u001B[1m11/11\u001B[0m \u001B[32m━━━━━━━━━━━━━━━━━━━━\u001B[0m\u001B[37m\u001B[0m \u001B[1m0s\u001B[0m 5ms/step - accuracy: 0.6856 - loss: 0.7058 - val_accuracy: 0.5244 - val_loss: 1.1332\n",
      "Epoch 62/100\n",
      "\u001B[1m11/11\u001B[0m \u001B[32m━━━━━━━━━━━━━━━━━━━━\u001B[0m\u001B[37m\u001B[0m \u001B[1m0s\u001B[0m 5ms/step - accuracy: 0.7160 - loss: 0.6314 - val_accuracy: 0.5732 - val_loss: 1.1537\n",
      "Epoch 63/100\n",
      "\u001B[1m11/11\u001B[0m \u001B[32m━━━━━━━━━━━━━━━━━━━━\u001B[0m\u001B[37m\u001B[0m \u001B[1m0s\u001B[0m 6ms/step - accuracy: 0.6981 - loss: 0.6579 - val_accuracy: 0.5488 - val_loss: 1.1044\n",
      "Epoch 64/100\n",
      "\u001B[1m11/11\u001B[0m \u001B[32m━━━━━━━━━━━━━━━━━━━━\u001B[0m\u001B[37m\u001B[0m \u001B[1m0s\u001B[0m 6ms/step - accuracy: 0.7169 - loss: 0.6688 - val_accuracy: 0.5122 - val_loss: 1.1356\n",
      "Epoch 65/100\n",
      "\u001B[1m11/11\u001B[0m \u001B[32m━━━━━━━━━━━━━━━━━━━━\u001B[0m\u001B[37m\u001B[0m \u001B[1m0s\u001B[0m 5ms/step - accuracy: 0.6701 - loss: 0.6989 - val_accuracy: 0.5610 - val_loss: 1.1621\n",
      "Epoch 66/100\n",
      "\u001B[1m11/11\u001B[0m \u001B[32m━━━━━━━━━━━━━━━━━━━━\u001B[0m\u001B[37m\u001B[0m \u001B[1m0s\u001B[0m 5ms/step - accuracy: 0.6973 - loss: 0.6817 - val_accuracy: 0.5488 - val_loss: 1.1193\n",
      "Epoch 67/100\n",
      "\u001B[1m11/11\u001B[0m \u001B[32m━━━━━━━━━━━━━━━━━━━━\u001B[0m\u001B[37m\u001B[0m \u001B[1m0s\u001B[0m 5ms/step - accuracy: 0.6861 - loss: 0.7188 - val_accuracy: 0.5366 - val_loss: 1.1561\n",
      "Epoch 68/100\n",
      "\u001B[1m11/11\u001B[0m \u001B[32m━━━━━━━━━━━━━━━━━━━━\u001B[0m\u001B[37m\u001B[0m \u001B[1m0s\u001B[0m 5ms/step - accuracy: 0.6897 - loss: 0.6765 - val_accuracy: 0.5366 - val_loss: 1.1420\n",
      "Epoch 69/100\n",
      "\u001B[1m11/11\u001B[0m \u001B[32m━━━━━━━━━━━━━━━━━━━━\u001B[0m\u001B[37m\u001B[0m \u001B[1m0s\u001B[0m 6ms/step - accuracy: 0.6944 - loss: 0.6694 - val_accuracy: 0.5732 - val_loss: 1.1479\n",
      "Epoch 70/100\n",
      "\u001B[1m11/11\u001B[0m \u001B[32m━━━━━━━━━━━━━━━━━━━━\u001B[0m\u001B[37m\u001B[0m \u001B[1m0s\u001B[0m 6ms/step - accuracy: 0.6894 - loss: 0.6697 - val_accuracy: 0.5488 - val_loss: 1.1375\n",
      "Epoch 71/100\n",
      "\u001B[1m11/11\u001B[0m \u001B[32m━━━━━━━━━━━━━━━━━━━━\u001B[0m\u001B[37m\u001B[0m \u001B[1m0s\u001B[0m 6ms/step - accuracy: 0.7039 - loss: 0.6689 - val_accuracy: 0.5610 - val_loss: 1.1804\n",
      "Epoch 72/100\n",
      "\u001B[1m11/11\u001B[0m \u001B[32m━━━━━━━━━━━━━━━━━━━━\u001B[0m\u001B[37m\u001B[0m \u001B[1m0s\u001B[0m 5ms/step - accuracy: 0.7295 - loss: 0.6734 - val_accuracy: 0.5488 - val_loss: 1.1408\n",
      "Epoch 73/100\n",
      "\u001B[1m11/11\u001B[0m \u001B[32m━━━━━━━━━━━━━━━━━━━━\u001B[0m\u001B[37m\u001B[0m \u001B[1m0s\u001B[0m 6ms/step - accuracy: 0.7246 - loss: 0.6453 - val_accuracy: 0.5488 - val_loss: 1.1578\n",
      "Epoch 74/100\n",
      "\u001B[1m11/11\u001B[0m \u001B[32m━━━━━━━━━━━━━━━━━━━━\u001B[0m\u001B[37m\u001B[0m \u001B[1m0s\u001B[0m 5ms/step - accuracy: 0.7290 - loss: 0.6451 - val_accuracy: 0.5610 - val_loss: 1.1735\n",
      "Epoch 75/100\n",
      "\u001B[1m11/11\u001B[0m \u001B[32m━━━━━━━━━━━━━━━━━━━━\u001B[0m\u001B[37m\u001B[0m \u001B[1m0s\u001B[0m 6ms/step - accuracy: 0.7146 - loss: 0.6474 - val_accuracy: 0.5732 - val_loss: 1.1514\n",
      "Epoch 76/100\n",
      "\u001B[1m11/11\u001B[0m \u001B[32m━━━━━━━━━━━━━━━━━━━━\u001B[0m\u001B[37m\u001B[0m \u001B[1m0s\u001B[0m 4ms/step - accuracy: 0.7364 - loss: 0.6237 - val_accuracy: 0.5488 - val_loss: 1.1434\n",
      "Epoch 77/100\n",
      "\u001B[1m11/11\u001B[0m \u001B[32m━━━━━━━━━━━━━━━━━━━━\u001B[0m\u001B[37m\u001B[0m \u001B[1m0s\u001B[0m 4ms/step - accuracy: 0.7070 - loss: 0.6520 - val_accuracy: 0.5610 - val_loss: 1.1493\n",
      "Epoch 78/100\n",
      "\u001B[1m11/11\u001B[0m \u001B[32m━━━━━━━━━━━━━━━━━━━━\u001B[0m\u001B[37m\u001B[0m \u001B[1m0s\u001B[0m 4ms/step - accuracy: 0.7211 - loss: 0.6300 - val_accuracy: 0.5366 - val_loss: 1.1791\n",
      "Epoch 79/100\n",
      "\u001B[1m11/11\u001B[0m \u001B[32m━━━━━━━━━━━━━━━━━━━━\u001B[0m\u001B[37m\u001B[0m \u001B[1m0s\u001B[0m 4ms/step - accuracy: 0.7621 - loss: 0.6254 - val_accuracy: 0.5610 - val_loss: 1.1545\n",
      "Epoch 80/100\n",
      "\u001B[1m11/11\u001B[0m \u001B[32m━━━━━━━━━━━━━━━━━━━━\u001B[0m\u001B[37m\u001B[0m \u001B[1m0s\u001B[0m 4ms/step - accuracy: 0.7501 - loss: 0.6117 - val_accuracy: 0.5366 - val_loss: 1.2235\n",
      "Epoch 81/100\n",
      "\u001B[1m11/11\u001B[0m \u001B[32m━━━━━━━━━━━━━━━━━━━━\u001B[0m\u001B[37m\u001B[0m \u001B[1m0s\u001B[0m 5ms/step - accuracy: 0.7060 - loss: 0.6328 - val_accuracy: 0.5488 - val_loss: 1.1743\n",
      "Epoch 82/100\n",
      "\u001B[1m11/11\u001B[0m \u001B[32m━━━━━━━━━━━━━━━━━━━━\u001B[0m\u001B[37m\u001B[0m \u001B[1m0s\u001B[0m 5ms/step - accuracy: 0.6954 - loss: 0.6835 - val_accuracy: 0.5732 - val_loss: 1.1813\n",
      "Epoch 83/100\n",
      "\u001B[1m11/11\u001B[0m \u001B[32m━━━━━━━━━━━━━━━━━━━━\u001B[0m\u001B[37m\u001B[0m \u001B[1m0s\u001B[0m 4ms/step - accuracy: 0.7146 - loss: 0.6144 - val_accuracy: 0.5366 - val_loss: 1.1928\n",
      "Epoch 84/100\n",
      "\u001B[1m11/11\u001B[0m \u001B[32m━━━━━━━━━━━━━━━━━━━━\u001B[0m\u001B[37m\u001B[0m \u001B[1m0s\u001B[0m 4ms/step - accuracy: 0.7308 - loss: 0.6135 - val_accuracy: 0.5732 - val_loss: 1.1756\n",
      "Epoch 85/100\n",
      "\u001B[1m11/11\u001B[0m \u001B[32m━━━━━━━━━━━━━━━━━━━━\u001B[0m\u001B[37m\u001B[0m \u001B[1m0s\u001B[0m 4ms/step - accuracy: 0.7613 - loss: 0.6070 - val_accuracy: 0.5244 - val_loss: 1.2307\n",
      "Epoch 86/100\n",
      "\u001B[1m11/11\u001B[0m \u001B[32m━━━━━━━━━━━━━━━━━━━━\u001B[0m\u001B[37m\u001B[0m \u001B[1m0s\u001B[0m 5ms/step - accuracy: 0.7376 - loss: 0.6222 - val_accuracy: 0.5488 - val_loss: 1.1842\n",
      "Epoch 87/100\n",
      "\u001B[1m11/11\u001B[0m \u001B[32m━━━━━━━━━━━━━━━━━━━━\u001B[0m\u001B[37m\u001B[0m \u001B[1m0s\u001B[0m 5ms/step - accuracy: 0.7175 - loss: 0.6145 - val_accuracy: 0.5000 - val_loss: 1.2169\n",
      "Epoch 88/100\n",
      "\u001B[1m11/11\u001B[0m \u001B[32m━━━━━━━━━━━━━━━━━━━━\u001B[0m\u001B[37m\u001B[0m \u001B[1m0s\u001B[0m 4ms/step - accuracy: 0.7316 - loss: 0.6093 - val_accuracy: 0.5488 - val_loss: 1.1751\n",
      "Epoch 89/100\n",
      "\u001B[1m11/11\u001B[0m \u001B[32m━━━━━━━━━━━━━━━━━━━━\u001B[0m\u001B[37m\u001B[0m \u001B[1m0s\u001B[0m 7ms/step - accuracy: 0.6977 - loss: 0.6523 - val_accuracy: 0.5610 - val_loss: 1.2515\n",
      "Epoch 90/100\n",
      "\u001B[1m11/11\u001B[0m \u001B[32m━━━━━━━━━━━━━━━━━━━━\u001B[0m\u001B[37m\u001B[0m \u001B[1m0s\u001B[0m 6ms/step - accuracy: 0.7229 - loss: 0.6107 - val_accuracy: 0.5732 - val_loss: 1.2050\n",
      "Epoch 91/100\n",
      "\u001B[1m11/11\u001B[0m \u001B[32m━━━━━━━━━━━━━━━━━━━━\u001B[0m\u001B[37m\u001B[0m \u001B[1m0s\u001B[0m 5ms/step - accuracy: 0.7399 - loss: 0.5996 - val_accuracy: 0.5000 - val_loss: 1.2074\n",
      "Epoch 92/100\n",
      "\u001B[1m11/11\u001B[0m \u001B[32m━━━━━━━━━━━━━━━━━━━━\u001B[0m\u001B[37m\u001B[0m \u001B[1m0s\u001B[0m 5ms/step - accuracy: 0.7254 - loss: 0.6241 - val_accuracy: 0.5732 - val_loss: 1.2068\n",
      "Epoch 93/100\n",
      "\u001B[1m11/11\u001B[0m \u001B[32m━━━━━━━━━━━━━━━━━━━━\u001B[0m\u001B[37m\u001B[0m \u001B[1m0s\u001B[0m 6ms/step - accuracy: 0.7586 - loss: 0.5938 - val_accuracy: 0.5244 - val_loss: 1.2075\n",
      "Epoch 94/100\n",
      "\u001B[1m11/11\u001B[0m \u001B[32m━━━━━━━━━━━━━━━━━━━━\u001B[0m\u001B[37m\u001B[0m \u001B[1m0s\u001B[0m 7ms/step - accuracy: 0.7575 - loss: 0.6147 - val_accuracy: 0.5488 - val_loss: 1.2593\n",
      "Epoch 95/100\n",
      "\u001B[1m11/11\u001B[0m \u001B[32m━━━━━━━━━━━━━━━━━━━━\u001B[0m\u001B[37m\u001B[0m \u001B[1m0s\u001B[0m 5ms/step - accuracy: 0.7339 - loss: 0.6304 - val_accuracy: 0.5488 - val_loss: 1.1985\n",
      "Epoch 96/100\n",
      "\u001B[1m11/11\u001B[0m \u001B[32m━━━━━━━━━━━━━━━━━━━━\u001B[0m\u001B[37m\u001B[0m \u001B[1m0s\u001B[0m 5ms/step - accuracy: 0.6975 - loss: 0.6272 - val_accuracy: 0.5610 - val_loss: 1.2554\n",
      "Epoch 97/100\n",
      "\u001B[1m11/11\u001B[0m \u001B[32m━━━━━━━━━━━━━━━━━━━━\u001B[0m\u001B[37m\u001B[0m \u001B[1m0s\u001B[0m 6ms/step - accuracy: 0.7118 - loss: 0.6376 - val_accuracy: 0.4878 - val_loss: 1.2145\n",
      "Epoch 98/100\n",
      "\u001B[1m11/11\u001B[0m \u001B[32m━━━━━━━━━━━━━━━━━━━━\u001B[0m\u001B[37m\u001B[0m \u001B[1m0s\u001B[0m 6ms/step - accuracy: 0.7256 - loss: 0.6356 - val_accuracy: 0.5976 - val_loss: 1.2663\n",
      "Epoch 99/100\n",
      "\u001B[1m11/11\u001B[0m \u001B[32m━━━━━━━━━━━━━━━━━━━━\u001B[0m\u001B[37m\u001B[0m \u001B[1m0s\u001B[0m 5ms/step - accuracy: 0.6828 - loss: 0.6287 - val_accuracy: 0.5122 - val_loss: 1.2711\n",
      "Epoch 100/100\n",
      "\u001B[1m11/11\u001B[0m \u001B[32m━━━━━━━━━━━━━━━━━━━━\u001B[0m\u001B[37m\u001B[0m \u001B[1m0s\u001B[0m 4ms/step - accuracy: 0.7319 - loss: 0.6095 - val_accuracy: 0.5610 - val_loss: 1.2463\n",
      "\u001B[1m4/4\u001B[0m \u001B[32m━━━━━━━━━━━━━━━━━━━━\u001B[0m\u001B[37m\u001B[0m \u001B[1m0s\u001B[0m 11ms/step\n"
     ]
    }
   ],
   "source": [
    "import mlflow.tensorflow\n",
    "import numpy as np\n",
    "import tensorflow as tf\n",
    "from sklearn.model_selection import train_test_split\n",
    "from sklearn.metrics import classification_report, confusion_matrix\n",
    "# Define el nombre del modelo y del desarrollador\n",
    "\n",
    "model_name = \"Red Neuronal_2\"\n",
    "developer = \"Angel De la mora, Regina Flores, Santiago Aguirre\"\n",
    "\n",
    "# Define los parámetros del modelo\n",
    "red_neuronal_params = {\n",
    "    \"input_dim\": X_train.shape[1],  # Dimensión de entrada\n",
    "    \"hidden_layers\": [64, 32],       # Número y tamaño de las capas ocultas\n",
    "    \"output_classes\": len(set(y_train))  # Número de clases de salida\n",
    "}\n",
    "\n",
    "# Inicia un nuevo experimento en MLflow\n",
    "with mlflow.start_run(run_name=model_name):\n",
    "    mlflow.log_param(\"model\", model_name)\n",
    "    mlflow.log_param(\"developer\", developer)\n",
    "    mlflow.log_params(red_neuronal_params)\n",
    "\n",
    "    # Define el modelo de red neuronal\n",
    "    model = tf.keras.models.Sequential([\n",
    "        tf.keras.layers.Dense(64, activation='relu', input_dim=red_neuronal_params[\"input_dim\"]),\n",
    "        tf.keras.layers.Dense(32, activation='relu'),\n",
    "        tf.keras.layers.Dense(red_neuronal_params[\"output_classes\"], activation='softmax')\n",
    "    ])\n",
    "\n",
    "    # Compila el modelo\n",
    "    model.compile(optimizer='adam',\n",
    "                  loss='sparse_categorical_crossentropy',\n",
    "                  metrics=['accuracy'])\n",
    "\n",
    "    # Entrena el modelo\n",
    "    model.fit(X_train, y_train, epochs=100, batch_size=32, validation_split=0.2)\n",
    "\n",
    "    # Realiza predicciones\n",
    "    predictions = model.predict(X_test)\n",
    "    y_pred = np.argmax(predictions, axis=1)\n",
    "\n",
    "    # Calcula métricas\n",
    "    report = classification_report(y_test, y_pred, output_dict=True)\n",
    "    confusion = confusion_matrix(y_test, y_pred)\n",
    "\n",
    "    # Registra métricas\n",
    "    mlflow.log_metric(\"accuracy\", report['accuracy'])\n",
    "    mlflow.log_metric(\"macro_f1_score\", report['macro avg']['f1-score'])\n",
    "    mlflow.log_metric(\"weighted_precision\", report['weighted avg']['precision'])\n",
    "    mlflow.log_metric(\"weighted_recall\", report['weighted avg']['recall'])\n",
    "    mlflow.log_metric(\"weighted_f1_score\", report['weighted avg']['f1-score'])\n",
    "\n",
    "    # Guardar la matriz de confusión en un archivo de texto\n",
    "    np.savetxt(\"confusion_matrix.txt\", confusion, fmt=\"%d\")\n",
    "\n",
    "    # Registra la matriz de confusión como un artefacto\n",
    "    mlflow.log_artifact(\"confusion_matrix.txt\")"
   ],
   "metadata": {
    "collapsed": false,
    "ExecuteTime": {
     "end_time": "2024-05-06T04:41:38.746514600Z",
     "start_time": "2024-05-06T04:41:23.588959400Z"
    }
   },
   "id": "2a0c7c52881a771e",
   "execution_count": 14
  },
  {
   "cell_type": "markdown",
   "source": [
    "# Experimetno 6"
   ],
   "metadata": {
    "collapsed": false
   },
   "id": "bb975dbf5966ade7"
  },
  {
   "cell_type": "code",
   "outputs": [
    {
     "ename": "AttributeError",
     "evalue": "module 'tensorflow.keras' has no attribute 'wrappers'",
     "output_type": "error",
     "traceback": [
      "\u001B[1;31m---------------------------------------------------------------------------\u001B[0m",
      "\u001B[1;31mAttributeError\u001B[0m                            Traceback (most recent call last)",
      "Cell \u001B[1;32mIn[16], line 31\u001B[0m\n\u001B[0;32m     28\u001B[0m \u001B[38;5;66;03m# Inicia un nuevo experimento en MLflow\u001B[39;00m\n\u001B[0;32m     29\u001B[0m \u001B[38;5;28;01mwith\u001B[39;00m mlflow\u001B[38;5;241m.\u001B[39mstart_run(run_name\u001B[38;5;241m=\u001B[39m\u001B[38;5;124m\"\u001B[39m\u001B[38;5;124mGrid Search\u001B[39m\u001B[38;5;124m\"\u001B[39m):\n\u001B[0;32m     30\u001B[0m     \u001B[38;5;66;03m# Inicializa el modelo de red neuronal\u001B[39;00m\n\u001B[1;32m---> 31\u001B[0m     model \u001B[38;5;241m=\u001B[39m \u001B[43mtf\u001B[49m\u001B[38;5;241;43m.\u001B[39;49m\u001B[43mkeras\u001B[49m\u001B[38;5;241;43m.\u001B[39;49m\u001B[43mwrappers\u001B[49m\u001B[38;5;241m.\u001B[39mscikit_learn\u001B[38;5;241m.\u001B[39mKerasClassifier(build_fn\u001B[38;5;241m=\u001B[39mcreate_model)\n\u001B[0;32m     33\u001B[0m     \u001B[38;5;66;03m# Realiza el grid search\u001B[39;00m\n\u001B[0;32m     34\u001B[0m     grid_search \u001B[38;5;241m=\u001B[39m GridSearchCV(estimator\u001B[38;5;241m=\u001B[39mmodel, param_grid\u001B[38;5;241m=\u001B[39mparam_grid, cv\u001B[38;5;241m=\u001B[39m\u001B[38;5;241m3\u001B[39m, scoring\u001B[38;5;241m=\u001B[39mcustom_scorer)\n",
      "\u001B[1;31mAttributeError\u001B[0m: module 'tensorflow.keras' has no attribute 'wrappers'"
     ]
    }
   ],
   "source": [
    "import mlflow.tensorflow\n",
    "import numpy as np\n",
    "import tensorflow as tf\n",
    "from sklearn.metrics import classification_report, confusion_matrix\n",
    "\n",
    "# Define una función para crear y compilar el modelo\n",
    "def create_model(hidden_layer_size):\n",
    "    model = tf.keras.models.Sequential([\n",
    "        tf.keras.layers.Dense(hidden_layer_size, activation='relu', input_dim=X_train.shape[1]),\n",
    "        tf.keras.layers.Dense(32, activation='relu'),\n",
    "        tf.keras.layers.Dense(len(set(y_train)), activation='softmax')\n",
    "    ])\n",
    "    model.compile(optimizer='adam',\n",
    "                  loss='sparse_categorical_crossentropy',\n",
    "                  metrics=['accuracy'])\n",
    "    return model\n",
    "\n",
    "# Define una función de puntuación personalizada\n",
    "def custom_scorer(model, X, y_true):\n",
    "    y_pred = model.predict(X)\n",
    "    y_pred = np.argmax(y_pred, axis=1)\n",
    "    report = classification_report(y_true, y_pred, output_dict=True)\n",
    "    return report['weighted avg']['f1-score']\n",
    "\n",
    "# Define los parámetros a probar en el grid search\n",
    "param_grid = {'hidden_layer_size': [32, 64, 128]}\n",
    "\n",
    "# Inicia un nuevo experimento en MLflow\n",
    "with mlflow.start_run(run_name=\"Grid Search\"):\n",
    "    # Inicializa el modelo de red neuronal\n",
    "    model = tf.keras.wrappers.scikit_learn.KerasClassifier(build_fn=create_model)\n",
    "\n",
    "    # Realiza el grid search\n",
    "    grid_search = GridSearchCV(estimator=model, param_grid=param_grid, cv=3, scoring=custom_scorer)\n",
    "    grid_result = grid_search.fit(X_train, y_train)\n",
    "\n",
    "    # Obtiene los mejores hiperparámetros y resultados\n",
    "    best_params = grid_result.best_params_\n",
    "    best_score = grid_result.best_score_\n",
    "\n",
    "    # Entrena el modelo con los mejores hiperparámetros\n",
    "    best_model = create_model(best_params['hidden_layer_size'])\n",
    "    best_model.fit(X_train, y_train, epochs=10, batch_size=32, validation_split=0.2)\n",
    "\n",
    "    # Realiza predicciones\n",
    "    predictions = best_model.predict(X_test)\n",
    "    y_pred = np.argmax(predictions, axis=1)\n",
    "\n",
    "    # Calcula métricas\n",
    "    report = classification_report(y_test, y_pred, output_dict=True)\n",
    "\n",
    "    # Registra los resultados en MLflow\n",
    "    mlflow.log_param(\"best_params\", best_params)\n",
    "    mlflow.log_metric(\"best_score\", best_score)\n",
    "    mlflow.log_metric(\"accuracy\", report['accuracy'])\n",
    "    mlflow.log_metric(\"macro_f1_score\", report['macro avg']['f1-score'])\n",
    "    mlflow.log_metric(\"weighted_precision\", report['weighted avg']['precision'])\n",
    "    mlflow.log_metric(\"weighted_recall\", report['weighted avg']['recall'])\n",
    "    mlflow.log_metric(\"weighted_f1_score\", report['weighted avg']['f1-score'])"
   ],
   "metadata": {
    "collapsed": false,
    "ExecuteTime": {
     "end_time": "2024-05-06T04:45:27.456442100Z",
     "start_time": "2024-05-06T04:45:26.778049100Z"
    }
   },
   "id": "1e36dd7c23fd30e9",
   "execution_count": 16
  },
  {
   "cell_type": "markdown",
   "source": [
    "### Experimento metricas"
   ],
   "metadata": {
    "collapsed": false
   },
   "id": "2993ad8dd56cf970"
  },
  {
   "cell_type": "code",
   "outputs": [
    {
     "name": "stderr",
     "output_type": "stream",
     "text": [
      "/Library/Frameworks/Python.framework/Versions/3.11/lib/python3.11/site-packages/sklearn/metrics/_classification.py:1509: UndefinedMetricWarning: Precision is ill-defined and being set to 0.0 in labels with no predicted samples. Use `zero_division` parameter to control this behavior.\n",
      "  _warn_prf(average, modifier, f\"{metric.capitalize()} is\", len(result))\n",
      "/Library/Frameworks/Python.framework/Versions/3.11/lib/python3.11/site-packages/_distutils_hack/__init__.py:18: UserWarning: Distutils was imported before Setuptools, but importing Setuptools also replaces the `distutils` module in `sys.modules`. This may lead to undesirable behaviors or errors. To avoid these issues, avoid using distutils directly, ensure that setuptools is installed in the traditional way (e.g. not an editable install), and/or make sure that setuptools is always imported before distutils.\n",
      "  warnings.warn(\n",
      "/Library/Frameworks/Python.framework/Versions/3.11/lib/python3.11/site-packages/_distutils_hack/__init__.py:33: UserWarning: Setuptools is replacing distutils.\n",
      "  warnings.warn(\"Setuptools is replacing distutils.\")\n"
     ]
    }
   ],
   "source": [
    "import mlflow\n",
    "from sklearn.linear_model import LogisticRegression\n",
    "from sklearn.metrics import precision_score, recall_score, f1_score, roc_auc_score\n",
    "from sklearn.model_selection import train_test_split\n",
    "\n",
    "# Supongamos que tienes tus datos en X y y, donde X son los comentarios y y son las etiquetas de quejas\n",
    "\n",
    "# Divide los datos en conjuntos de entrenamiento y prueba\n",
    "X_train, X_test, y_train, y_test = train_test_split(X, y, test_size=0.2, random_state=42)\n",
    "\n",
    "name_model = \"LogisticRegression\"\n",
    "developer = \"Angel De la mora, Regina Flores, Santiago Aguirre\"\n",
    "\n",
    "parameters = {\n",
    "    \"penalty\": \"l2\",\n",
    "    \"C\": 1.0,\n",
    "    \"solver\": \"lbfgs\",\n",
    "    \"max_iter\": 100,\n",
    "    \"random_state\": 42\n",
    "}\n",
    "\n",
    "with mlflow.start_run(run_name=name_model):\n",
    "    \n",
    "    mlflow.log_param(\"model\", name_model)\n",
    "    mlflow.log_param(\"developer\", developer)\n",
    "    \n",
    "    # Registrar parámetros del modelo\n",
    "    mlflow.log_params(parameters)\n",
    "    \n",
    "    # Entrenar un clasificador de regresión logística\n",
    "    logistic_regression_clf = LogisticRegression(**parameters)\n",
    "    logistic_regression_clf.fit(X_train, y_train)\n",
    "    \n",
    "    # Realizar predicciones\n",
    "    predictions = logistic_regression_clf.predict(X_test)\n",
    "    predictions_proba = logistic_regression_clf.predict_proba(X_test)\n",
    "\n",
    "    # Calcular métricas para cada etiqueta\n",
    "    precision = precision_score(y_test, predictions, average=None)\n",
    "    recall = recall_score(y_test, predictions, average=None)\n",
    "    f1 = f1_score(y_test, predictions, average=None)\n",
    "    #roc_auc = roc_auc_score(y_test, predictions_proba, average=None, multi_class='ovr')\n",
    "\n",
    "    # Registrar métricas para cada etiqueta\n",
    "    for i in range(len(precision)):\n",
    "        mlflow.log_metric(f\"precision_label_{i}\", precision[i])\n",
    "        mlflow.log_metric(f\"recall_label_{i}\", recall[i])\n",
    "        mlflow.log_metric(f\"f1_label_{i}\", f1[i])\n",
    "        #mlflow.log_metric(f\"roc_auc_label_{i}\", roc_auc[i])\n",
    "    \n",
    "    # También puedes calcular métricas agregadas, como el promedio de todas las etiquetas\n",
    "    mlflow.log_metric(\"precision_macro_avg\", precision.mean())\n",
    "    mlflow.log_metric(\"recall_macro_avg\", recall.mean())\n",
    "    mlflow.log_metric(\"f1_macro_avg\", f1.mean())\n",
    "    #mlflow.log_metric(\"roc_auc_macro_avg\", roc_auc.mean())\n",
    "    \n",
    "    # Registrar el modelo\n",
    "    mlflow.sklearn.log_model(logistic_regression_clf, \"logistic_regression_classifier\")\n"
   ],
   "metadata": {
    "collapsed": false,
    "ExecuteTime": {
     "end_time": "2024-05-07T02:39:00.812090Z",
     "start_time": "2024-05-07T02:38:43.271449Z"
    }
   },
   "id": "8f1a097068fc1f9b",
   "execution_count": 12
  },
  {
   "cell_type": "code",
   "outputs": [],
   "source": [],
   "metadata": {
    "collapsed": false
   },
   "id": "a4262e7952750a70"
  }
 ],
 "metadata": {
  "kernelspec": {
   "display_name": "Python 3",
   "language": "python",
   "name": "python3"
  },
  "language_info": {
   "codemirror_mode": {
    "name": "ipython",
    "version": 2
   },
   "file_extension": ".py",
   "mimetype": "text/x-python",
   "name": "python",
   "nbconvert_exporter": "python",
   "pygments_lexer": "ipython2",
   "version": "2.7.6"
  }
 },
 "nbformat": 4,
 "nbformat_minor": 5
}
