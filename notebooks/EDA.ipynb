{
 "cells": [
  {
   "cell_type": "code",
   "execution_count": null,
   "id": "initial_id",
   "metadata": {
    "collapsed": true
   },
   "outputs": [],
   "source": [
    "import pandas as pd\n",
    "import matplotlib.pyplot as plt\n",
    "import seaborn as sns\n"
   ]
  },
  {
   "cell_type": "code",
   "outputs": [],
   "source": [
    "#Lectura del archivo con la informacion a trabajar optenida de Kaggle\n",
    "df=pd.read_csv(\"matches.csv\")\n",
    "df"
   ],
   "metadata": {
    "collapsed": false
   },
   "id": "94f5aff25b6384af"
  },
  {
   "cell_type": "code",
   "outputs": [],
   "source": [
    "df.columns\n"
   ],
   "metadata": {
    "collapsed": false
   },
   "id": "b82b441b5b61652e"
  },
  {
   "cell_type": "code",
   "outputs": [],
   "source": [
    "df.nunique()"
   ],
   "metadata": {
    "collapsed": false
   },
   "id": "13336254acbda842"
  },
  {
   "cell_type": "code",
   "outputs": [],
   "source": [
    "#Dimension de los datos\n",
    "df.shape"
   ],
   "metadata": {
    "collapsed": false
   },
   "id": "8d7890158047435a"
  },
  {
   "cell_type": "code",
   "outputs": [],
   "source": [
    "#Tipos de datos\n",
    "dtypes = pd.DataFrame(df.dtypes, columns=['Tipo'])\n",
    "dtypes"
   ],
   "metadata": {
    "collapsed": false
   },
   "id": "23f5296807e3503f"
  },
  {
   "cell_type": "code",
   "outputs": [],
   "source": [
    "#Valores nulos\n",
    "missing = pd.DataFrame(df.isnull().sum(),columns=['Valores_Nulos'])\n",
    "missing"
   ],
   "metadata": {
    "collapsed": false
   },
   "id": "1d8136f2110e3416"
  },
  {
   "cell_type": "code",
   "outputs": [],
   "source": [
    "#Al observar que la variable \"Notes\" es una columna vacía y no nos aportara en nada para dar información esta se elimina.\n",
    "df = df.drop('Notes', axis=1)\n",
    "df.shape"
   ],
   "metadata": {
    "collapsed": false
   },
   "id": "9da14a17d940d11c"
  },
  {
   "cell_type": "code",
   "outputs": [],
   "source": [
    "#Al igual vemos que la variable Attendance tiene 2 valores nullos, estos se eliminaran ya que, si existen o no, no afecta la distribución de los datos por ser tan pocos.\n",
    "df = df.dropna()\n",
    "df.shape"
   ],
   "metadata": {
    "collapsed": false
   },
   "id": "f7c06b9a213b2a9"
  },
  {
   "cell_type": "code",
   "outputs": [],
   "source": [
    "#valores únicos\n",
    "unival = pd.DataFrame(df.nunique(), columns=['Valores_Unicos'])\n",
    "unival"
   ],
   "metadata": {
    "collapsed": false
   },
   "id": "3d0e0156318a99e6"
  },
  {
   "cell_type": "code",
   "outputs": [],
   "source": [
    "df.shape\n",
    "#valores únicos\n",
    "unival = pd.DataFrame(df.nunique(), columns=['Valores_Unicos'])\n",
    "unival"
   ],
   "metadata": {
    "collapsed": false
   },
   "id": "491877aa8a437c3a"
  },
  {
   "cell_type": "code",
   "outputs": [],
   "source": [
    "#Visualizar todo junto\n",
    "def reporte(df):\n",
    "    dtyp = pd.DataFrame(df.dtypes, columns=['Tipo'])\n",
    "    missing = pd.DataFrame(df.isnull().sum(), columns=['Valores_Nulos'])\n",
    "    unival = pd.DataFrame(df.nunique(), columns=['Valores_Unicos'])\n",
    "    maximo = pd.DataFrame(df.max(), columns=['Max'])\n",
    "    minimo = pd.DataFrame(df.min(), columns=['Min'])\n",
    "    return dtyp.join(missing).join(unival).join(maximo).join(minimo)\n",
    "reporte(df)"
   ],
   "metadata": {
    "collapsed": false
   },
   "id": "1d4c5f7e2c3e63bc"
  },
  {
   "cell_type": "code",
   "outputs": [],
   "source": [
    "#Histogramas\n",
    "df.hist(bins=50,figsize=(20,10))\n",
    "plt.show()"
   ],
   "metadata": {
    "collapsed": false
   },
   "id": "2004dc58b0c1070f"
  },
  {
   "cell_type": "markdown",
   "source": [
    "En nuestras visualizaciones anteriores observamos la frecuencia en la que cada dato en cada categoría es usada."
   ],
   "metadata": {
    "collapsed": false
   },
   "id": "d6e8afdb98e9ba6a"
  },
  {
   "cell_type": "code",
   "outputs": [],
   "source": [
    "df_numerico = df.select_dtypes(include=['number'])"
   ],
   "metadata": {
    "collapsed": false
   },
   "id": "60f4aa4e3d085578"
  },
  {
   "cell_type": "code",
   "outputs": [],
   "source": [
    "#gráficos variables\n",
    "for var in df_numerico:\n",
    "    # Graficamos el histograma\n",
    "    plt.hist(df_numerico[var], bins=5)\n",
    "    plt.title(f'Histograma de {var}')\n",
    "    plt.xlabel(var)\n",
    "    plt.ylabel('Frecuencia')\n",
    "\n",
    "    # Calculamos algunas medidas estadísticas de la variable\n",
    "    var_mean = df_numerico[var].mean()\n",
    "    var_median = df_numerico[var].median()\n",
    "    var_std = df_numerico[var].std()\n",
    "    var_min = df_numerico[var].min()\n",
    "    var_max = df_numerico[var].max()\n",
    "\n",
    "    # Agregamos las medidas estadísticas al gráfico\n",
    "    plt.text(1.20, 0.20,\n",
    "             f\"Promedio: {var_mean:.2f}\\nMediana: {var_median:.2f}\\nDesv. Est.: {var_std:.2f}\\nMínimo: {var_min:.2f}\\nMáximo: {var_max:.2f}\",\n",
    "             transform=plt.gca().transAxes)\n",
    "\n",
    "    # Mostramos el gráfico\n",
    "    plt.show()\n",
    "\n",
    "    # Graficamos el diagrama de caja\n",
    "    plt.boxplot(df_numerico[var], vert=False)\n",
    "    plt.title(f'Diagrama de Caja de {var}')\n",
    "    plt.xlabel(var)\n",
    "\n",
    "    # Mostramos el gráfico\n",
    "    plt.show()"
   ],
   "metadata": {
    "collapsed": false
   },
   "id": "fb3705b30a892a51"
  },
  {
   "cell_type": "code",
   "outputs": [],
   "source": [
    "import pandas as pd\n",
    "import matplotlib.pyplot as plt\n",
    "import seaborn as sns\n",
    "\n",
    "def remove_outliers(df, threshold=1.5):\n",
    "    Q1 = df.quantile(0.25)\n",
    "    Q3 = df.quantile(0.75)\n",
    "    IQR = Q3 - Q1\n",
    "    lower_bound = Q1 - threshold * IQR\n",
    "    upper_bound = Q3 + threshold * IQR\n",
    "    return df[((df >= lower_bound) & (df <= upper_bound)).all(axis=1)]\n",
    "\n",
    "\n",
    "def plot_distribution_comparison(df_orig, df_sin_outliers):\n",
    "    plt.figure(figsize=(15, 5 * len(df_orig.columns)))\n",
    "    for i, columna in enumerate(df_orig.columns):\n",
    "        if pd.api.types.is_numeric_dtype(df_orig[columna]):\n",
    "            plt.subplot(len(df_orig.columns), 2, i*2 + 1)\n",
    "            sns.histplot(df_orig[columna], kde=True)\n",
    "            plt.title(f'Distribución de {columna} con outliers')\n",
    "\n",
    "            plt.subplot(len(df_orig.columns), 2, i*2 + 2)\n",
    "            sns.histplot(df_sin_outliers[columna], kde=True)\n",
    "            plt.title(f'Distribución de {columna} sin outliers')\n",
    "\n",
    "    plt.tight_layout()\n",
    "    plt.show()\n",
    "\n",
    "df_num_copy=df_numerico.copy()\n",
    "df_sin_outliers = remove_outliers(df_num_copy)\n",
    "plot_distribution_comparison(df_numerico, df_sin_outliers)"
   ],
   "metadata": {
    "collapsed": false
   },
   "id": "9864659ee747daed"
  },
  {
   "cell_type": "markdown",
   "source": [
    "### Eliminación de variables a partir de apreciación\n"
   ],
   "metadata": {
    "collapsed": false
   },
   "id": "b38dd3b9d22e53b5"
  },
  {
   "cell_type": "code",
   "outputs": [],
   "source": [
    "drop= ['Unnamed: 0', 'Date', 'Time', 'Comp', 'Round', 'Day' , 'Poss', 'Attendance', 'Captain', 'Formation', 'Referee', 'Match Report','Sh', 'SoT', 'Dist', 'FK', 'PK', 'PKatt', 'Season']\n",
    "\n",
    "df= df.drop(drop, axis=1)"
   ],
   "metadata": {
    "collapsed": false
   },
   "id": "90efd24c7a224a81"
  },
  {
   "cell_type": "code",
   "outputs": [],
   "source": [
    "df.head()"
   ],
   "metadata": {
    "collapsed": false
   },
   "id": "757e0332690d3494"
  },
  {
   "cell_type": "code",
   "outputs": [],
   "source": [
    "df.to_csv('data/processed/df_final.csv', index=False) "
   ],
   "metadata": {
    "collapsed": false
   },
   "id": "ff530256759abca2"
  },
  {
   "cell_type": "markdown",
   "source": [],
   "metadata": {
    "collapsed": false
   },
   "id": "160ca69f1339e4e5"
  },
  {
   "cell_type": "markdown",
   "source": [
    "## Data Wrangling:"
   ],
   "metadata": {
    "collapsed": false
   },
   "id": "e12b702d8c56da8b"
  },
  {
   "cell_type": "markdown",
   "source": [
    "Los datos de 514 filas y 27 columnas, al observar los valores nulos de nuestro data set observamos que la columna notas está vacía ya que tiene 514 valores nulos, ya que no nos aporta nada de información esta se elimina. Tenemos dos valores nulos en attendance, ya que son muy pocos, se eliminan ya que no causará cambios en la distrubución de los datos. Dejamos los datos atípicos ya que no afectan en la distribución de la mayoría de las variables, como podemos ver en los gráficos anteriores.\n"
   ],
   "metadata": {
    "collapsed": false
   },
   "id": "f59d46b7cf834270"
  }
 ],
 "metadata": {
  "kernelspec": {
   "display_name": "Python 3",
   "language": "python",
   "name": "python3"
  },
  "language_info": {
   "codemirror_mode": {
    "name": "ipython",
    "version": 2
   },
   "file_extension": ".py",
   "mimetype": "text/x-python",
   "name": "python",
   "nbconvert_exporter": "python",
   "pygments_lexer": "ipython2",
   "version": "2.7.6"
  }
 },
 "nbformat": 4,
 "nbformat_minor": 5
}
