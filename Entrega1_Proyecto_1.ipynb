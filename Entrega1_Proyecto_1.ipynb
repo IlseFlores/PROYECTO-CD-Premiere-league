{
 "cells": [
  {
   "cell_type": "markdown",
   "metadata": {
    "collapsed": false
   },
   "source": [
    "## Proyecto final\n",
    "1. Recuerde que se divide en dos partes:\n",
    "    - Informe escrito y código\n",
    "    - Presentación\n",
    "2. Habrá entregas parciales, las cuales son un prerrequisito para el proyecto final.\n",
    "    - La calificación de dichas entregas entran en el apartado de tares y trabajo en clase.\n",
    "    - Primera entrega:\n",
    "        + Introducción\n",
    "        + Antecedentes\n",
    "        + Objetivos\n",
    "        + Planteamiento del problema\n",
    "        + EDA\n",
    "        + Data Wrangling\n",
    "3. Crear un repositorio en Github, añadir a los compañeros como colaboradores.\n",
    "4. **Trabajo en clase (del proyecto) hoy Lunes 4 de Marzo de 2024.**\n",
    "5. Fecha de entrega: Lunes 11 de Marzo de 2024 a las 19:55"
   ]
  },
  {
   "cell_type": "markdown",
   "metadata": {
    "collapsed": false
   },
   "source": [
    "___\n",
    "## 1. Entregable.\n",
    "Los trabajos deben tener los siguientes componentes básicos.\n",
    "\n",
    "#### 1. **Título del trabajo:**\n",
    "English Premier League Matches 2023/2024 Season\n",
    "\n",
    "#### 2. **Introducción:**\n",
    "El proyecto se trabajará en base a un dataset de la liga de futbol inglesa (premiere league) temporada 2023-2024 con el objetivo mediante los datos históricos de la temporada con el propósito de generar una predicción sobre que equipo ganaria el partido si se enfrentaran  durante la temporada actual hasta predecir quien podría ser campeón, puestos europeos y el descenso.\n",
    "\n",
    "Predecir el ganador de un partido en una de las ligas más competitivas del mundo parece imposible, pero utilizando diferentes métodos estadísticos y tomando en cuenta información pasada de ambos equipos, es posible, aunque complicado.\n",
    "\n",
    "Aficionados han intentado esto docenas de veces sin éxito, pero nosotros esperamos poder lograr este objetivo y dar solución al problema de determinar qué equipo se llevará el encuentro.\n",
    "\n",
    "#### 3. **Antecedentes:**\n",
    "**IA y Machine Learning: El futuro del análisis de datos en el fútbol**\n",
    "\n",
    "La combinación de datos de seguimiento de extremidades y balones con IA ha revolucionado el análisis de datos en el fútbol. Los algoritmos impulsados por esta tecnología generan alertas automáticas de fuera de juego, ayudando a los árbitros a tomar decisiones más rápidas y precisas. Además, se crea una animación 3D de los datos utilizados para tomar estas decisiones, ofreciendo una experiencia aún más inmersiva para los fanáticos.\n",
    "\n",
    "(https://prensariotila.com/la-revolucion-de-la-inteligencia-artificial-en-el-futbol/)\n",
    "\n",
    "Este hecho puede verse como parte del avance que ha tenido Machine Learning y la IA en el mundo del fútbol, se pueden sacar cada vez más características para hacer análisis de datos que pueden contibuir a ver factores y rendimiento de los jugadores durante los partidos, temporadas, atec. También este puede ayudar a lo que es el fair play en situaciones donde el balón entró o no la línea y los fueras de lugar, por dar un ejemplo.\n",
    "\n",
    "#### 4. **Objetivos:**\n",
    "\n",
    "+ **Objetivos Generales:** Desarrollar un modelo de aprendizaje para lograr una simulaciin de prediccion sobre la clasificación final de los equipos en la Premier League 2023/2024.\n",
    "    \n",
    "+ **Objetivos Específicos:**\n",
    "    -Buscar y preparar un conjunto de datos con información histórica de la Premier League.\n",
    "    -Realizar un análisis exploratorio de datos (EDA).\n",
    "    -Identificar variables relevantes para la predicción.\n",
    "    -Eliminar datos que  puedan perjudicar a nuestro modelo.\n",
    "    -Explorar diferentes modelos buscando encontrar el mas adecuado a nuestro problema y a nuestros tipos de datos.\n",
    "    -Seleccionar el mejor modelo que se adapte a nuestro problema\n",
    "    -Entrenar el modelo preseleccionado con nuestra infromacion obtenida del dataset. \n",
    "    -Generar predicciones adecuadas al probelma.\n",
    "    -Visualizar los resultados.\n",
    "    -Compartir los resultados de forma clara y especifica. \n",
    "    \n",
    "#### 5. **Planteamiento del problema:**\n",
    "Trabajaremos con un dataset llamado \"matches.csv\" de la liga de fútbol inglesa conocida como premiere league  obtenido de la plataforma de kaggle https://www.kaggle.com/datasets/mertbayraktar/english-premier-league-matches-20232024-season/data. Buscaremos predecir si el equipo gana, pierde o hay empate\n",
    "\n",
    "\n",
    "\n",
    "\n",
    "\n",
    "\n",
    "#### 6. **Desarrollo de la solución:**\n",
    "Esta es la parte central del informe y debe dividirse en varias subsecciones:\n",
    "\n",
    "+ **EDA (Análisis Exploratorio de Datos):** Aquí, los estudiantes deben mostrar cómo exploraron y analizaron los datos, identificando tendencias, patrones y características importantes.\n",
    "\n",
    "+ **Data Wrangling:** En esta sección, se describe cómo se limpiaron y prepararon los datos para su análisis, incluyendo la eliminación de valores atípicos y la imputación de datos faltantes.\n",
    "  HASTA AQUÍ\n",
    "\n",
    "+ **Dataset final a trabajar:** Los estudiantes deben explicar qué datos seleccionaron para su proyecto y por qué eligieron esos datos específicos.\n",
    "\n",
    "+ **Entrenamiento del modelo con MLflow:** En esta parte, se detalla cómo se entrenó el modelo de ciencia de datos. Deben utilizar MLflow para registrar los experimentos, incluyendo diferentes configuraciones de modelos y parámetros. Además, deben grabar métricas relevantes para evaluar el rendimiento de los modelos.\n",
    "\n",
    "+ **Selección del mejor modelo:** Con base en los experimentos registrados en MLflow, se debe identificar y seleccionar el modelo que mejor desempeño y métricas muestra.\n",
    "\n",
    "+ **Servir el modelo (API) con el mejor desempeño:** Describe cómo se creó una API para servir el modelo con el mejor rendimiento y métricas a través de una interfaz web o un servicio.\n",
    "\n",
    "+ **Conteneirizar del servicio:** Explica cómo se empaquetó el servicio y se subió a una plataforma de nube, lo que puede incluir el uso de contenedores como Docker.\n",
    "\n",
    "+ **Despliegue del servicio en la nube:** Detalla cómo se implementó el servicio en la nube, cómo se configuraron los recursos. La API se despliega utilizando el modelo que ha mostrado el mejor rendimiento y métricas durante los experimentos.\n",
    "\n",
    "\n",
    "#### 7. **Conclusiones:**\n",
    "En esta sección, los estudiantes deben resumir los resultados del proyecto, destacar los logros, discutir los desafíos enfrentados y brindar recomendaciones o posibles mejoras futuras.\n",
    "\n",
    "#### 8. **Referencias:**\n",
    "Los estudiantes deben proporcionar una lista de todas las fuentes, libros, documentos técnicos, sitios web y recursos utilizados durante el proyecto. Esto incluye cualquier bibliografía y recursos citados en el informe."
   ]
  },
  {
   "cell_type": "markdown",
   "metadata": {},
   "source": [
    "NOTA: El proyecto se debe encontrar en un repositorio de `dagshub` que al mismo tiempo debe estar ligado a un repositorio en `github`.\n",
    "\n",
    "El repositorio debe tener la siguiente estructura\n",
    "\n",
    "```\n",
    "Proyecto de Ciencia de Datos\n",
    "├── Informe Escrito\n",
    "│   └── PrimerNombrePrimerApellido.ipynb\n",
    "├── Data\n",
    "│   ├── Raw Data (folder)\n",
    "│   └── Clean Data (folder)\n",
    "├── Entrenamiento\n",
    "│   └── training.ipynb\n",
    "├── EDA\n",
    "│   └── EDA.ipynb\n",
    "└── API\n",
    "    ├── app.py\n",
    "    ├── Dockerfile\n",
    "    └── requirements.txt\n",
    "```"
   ]
  },
  {
   "cell_type": "markdown",
   "metadata": {},
   "source": [
    "___\n",
    "## 2 Presentación.\n",
    "> Recuerden que la nota del proyecto es mitad el trabajo, y mitad la presentación. Deben hacer una presentación en power point para presentar el trabajo en la clase. La presentación, además de llevar todos los componentes básicos descritos en el entregable, debe llevar una tabla de contenido.\n",
    ">\n",
    "> - Presentación: 15 minutos.\n",
    "> - Seguir estas recomendaciones:\n",
    "    > - https://www.ncsl.org/legislative-staff/lscc/tips-for-making-effective-powerpoint-presentations\n",
    "    > - https://www.trentu.ca/academicskills/how-guides/how-write-university/how-approach-any-assignment/creating-effective-powerpoint-slides"
   ]
  },
  {
   "cell_type": "markdown",
   "metadata": {},
   "source": [
    "<script>\n",
    "  $(document).ready(function(){\n",
    "    $('div.prompt').hide();\n",
    "    $('div.back-to-top').hide();\n",
    "    $('nav#menubar').hide();\n",
    "    $('.breadcrumb').hide();\n",
    "    $('.hidden-print').hide();\n",
    "  });\n",
    "</script>\n",
    "\n",
    "<footer id=\"attribution\" style=\"float:right; color:#808080; background:#fff;\">\n",
    "Created with Jupyter by Cristian Camilo Zapata Zuluaga.\n",
    "</footer>"
   ]
  }
 ],
 "metadata": {
  "kernelspec": {
   "display_name": "Python 3 (ipykernel)",
   "language": "python",
   "name": "python3"
  },
  "language_info": {
   "codemirror_mode": {
    "name": "ipython",
    "version": 3
   },
   "file_extension": ".py",
   "mimetype": "text/x-python",
   "name": "python",
   "nbconvert_exporter": "python",
   "pygments_lexer": "ipython3",
   "version": "3.11.5"
  }
 },
 "nbformat": 4,
 "nbformat_minor": 4
}
